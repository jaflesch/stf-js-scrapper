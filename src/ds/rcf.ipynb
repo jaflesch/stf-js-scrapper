{
 "cells": [
  {
   "cell_type": "markdown",
   "id": "1ab80d76-3ea5-4d68-9ab2-5aca4faf0384",
   "metadata": {
    "tags": []
   },
   "source": [
    "# Random Forest Legal Document Classifier"
   ]
  },
  {
   "cell_type": "markdown",
   "id": "cb569d46-0cc8-4ced-a9e6-c58dcbf626b2",
   "metadata": {
    "tags": []
   },
   "source": [
    "## Import common libraries"
   ]
  },
  {
   "cell_type": "code",
   "execution_count": 1,
   "id": "abc82a98-1e63-4ae0-801f-0d5ada46ae1c",
   "metadata": {
    "tags": []
   },
   "outputs": [
    {
     "name": "stdout",
     "output_type": "stream",
     "text": [
      "Libraries loaded\n"
     ]
    }
   ],
   "source": [
    "import numpy as np\n",
    "import os, sys\n",
    "import pandas as pd\n",
    "import glob\n",
    "from pymongo import MongoClient\n",
    "\n",
    "print('Libraries loaded')"
   ]
  },
  {
   "cell_type": "markdown",
   "id": "eb2b6db8-2a9d-4bef-b9f8-e137e4e7cdd0",
   "metadata": {
    "tags": []
   },
   "source": [
    "## Start database connection"
   ]
  },
  {
   "cell_type": "code",
   "execution_count": 2,
   "id": "624bec01-1f66-45fd-bc2a-12fc09e74c06",
   "metadata": {},
   "outputs": [
    {
     "name": "stdout",
     "output_type": "stream",
     "text": [
      "Database successfully connected\n"
     ]
    }
   ],
   "source": [
    "conn = MongoClient()\n",
    "db = conn.lexit\n",
    "collection = db.judgements\n",
    "\n",
    "print ('Database successfully connected')"
   ]
  },
  {
   "cell_type": "markdown",
   "id": "317a6ddb-61bc-4309-9798-41cbd4235ba4",
   "metadata": {
    "tags": []
   },
   "source": [
    "## Define feature suite factory procedures"
   ]
  },
  {
   "cell_type": "code",
   "execution_count": 3,
   "id": "8dc0bda7-8ffc-410d-82c0-e9e95020c3ac",
   "metadata": {},
   "outputs": [],
   "source": [
    "def get_features_suite_01(judgement):\n",
    "    return judgement['ementa'].strip().replace(\"\\n\", \"\")\n",
    "\n",
    "def get_features_suite_02(judgement):\n",
    "    return (\n",
    "        judgement['paginaInternaTitulo'].strip() + \n",
    "        judgement['ementa'].strip() + \n",
    "        judgement['decisao'].strip() + \n",
    "        judgement['tese'].strip() + \n",
    "        judgement['observacao'].strip() + \n",
    "        judgement['doutrina'].strip()\n",
    "    ).replace(\"\\n\", \"\")\n",
    "\n",
    "def get_features_suite_03(judgement):\n",
    "    target_folder = os.path.join(os.getcwd(), '..', '..', 'txt')\n",
    "    file_path = os.path.join(target_folder, str(judgement['documentId']) + '.txt')\n",
    "    if os.path.exists(file_path):\n",
    "        f = open(file_path, 'r', encoding='utf8')\n",
    "        return (f.read()).strip()\n",
    "    return ''\n"
   ]
  },
  {
   "cell_type": "markdown",
   "id": "aeaa8cdc-0d69-4cac-abb1-88f4b8b79cc4",
   "metadata": {
    "tags": []
   },
   "source": [
    "## Dataset construction for feature suites"
   ]
  },
  {
   "cell_type": "code",
   "execution_count": 4,
   "id": "6ad8ded3-bf0e-40d3-aec1-22dc8a0fe068",
   "metadata": {},
   "outputs": [
    {
     "name": "stdout",
     "output_type": "stream",
     "text": [
      "Total documents: 73798\n",
      "\n",
      "- Feature suite [01] 10856860\n",
      "--- COUNT words: 10856860\n",
      "--- AVG words/document: 147.12\n",
      "\n",
      "- Feature suite [02]\n",
      "--- COUNT words: 16997445\n",
      "--- AVG words/document: 230.32\n",
      "\n",
      "- Feature suite [03]\n",
      "--- COUNT words: 575235270\n",
      "--- AVG words/document: 7794.73\n"
     ]
    }
   ],
   "source": [
    "ds_suite_01 = []\n",
    "ds_suite_02 = []\n",
    "ds_suite_03 = []\n",
    "i = 0\n",
    "total_suite_01 = 0\n",
    "total_suite_02 = 0\n",
    "total_suite_03 = 0\n",
    "\n",
    "for row in collection.find():\n",
    "    curr_row_suite_01 = get_features_suite_01(row)\n",
    "    curr_row_suite_02 = get_features_suite_02(row)\n",
    "    curr_row_suite_03 = get_features_suite_03(row)\n",
    "    \n",
    "    ds_suite_01.append([row['categoria'], get_features_suite_01(row)])  \n",
    "    ds_suite_02.append([row['categoria'], get_features_suite_02(row)])  \n",
    "    ds_suite_03.append([row['categoria'], get_features_suite_03(row)])  \n",
    "    \n",
    "    total_suite_01 += len(curr_row_suite_01.split(' '))\n",
    "    total_suite_02 += len(curr_row_suite_02.split(' '))\n",
    "    total_suite_03 += len(str(curr_row_suite_03).split(' '))\n",
    "    i = i + 1\n",
    "\n",
    "print ('Total documents:', i)\n",
    "\n",
    "print ('\\n- Feature suite [01]', total_suite_01)\n",
    "print ('--- COUNT words:', total_suite_01)\n",
    "print ('--- AVG words/document:', round(total_suite_01 / i, 2))\n",
    "\n",
    "print ('\\n- Feature suite [02]')\n",
    "print ('--- COUNT words:', total_suite_02)\n",
    "print ('--- AVG words/document:', round(total_suite_02 / i, 2))\n",
    "\n",
    "print ('\\n- Feature suite [03]')\n",
    "print ('--- COUNT words:', total_suite_03)\n",
    "print ('--- AVG words/document:', round(total_suite_03 / i, 2))"
   ]
  },
  {
   "cell_type": "markdown",
   "id": "2f2d8975-0b55-4a39-bf9f-0a7efd4b27ce",
   "metadata": {},
   "source": [
    "## Data manipulation"
   ]
  },
  {
   "cell_type": "markdown",
   "id": "f14d2d3f-e3a1-49ff-a21f-5f303d1cb6cc",
   "metadata": {
    "tags": []
   },
   "source": [
    "### Imports"
   ]
  },
  {
   "cell_type": "code",
   "execution_count": 5,
   "id": "2cc2256b-8005-4d3e-a4a2-5ebe465ff8e2",
   "metadata": {},
   "outputs": [
    {
     "name": "stdout",
     "output_type": "stream",
     "text": [
      "Data manipulation libraries loaded\n"
     ]
    }
   ],
   "source": [
    "import nltk\n",
    "import string\n",
    "from collections import defaultdict\n",
    "from nltk.corpus import stopwords\n",
    "\n",
    "print ('Data manipulation libraries loaded')"
   ]
  },
  {
   "cell_type": "markdown",
   "id": "50a9e835-11f6-4fb4-8f42-ec4be279b13d",
   "metadata": {
    "tags": []
   },
   "source": [
    "### Stopwords"
   ]
  },
  {
   "cell_type": "code",
   "execution_count": 6,
   "id": "5db9fc3e-1cf0-47c3-b159-13011279298e",
   "metadata": {},
   "outputs": [
    {
     "name": "stdout",
     "output_type": "stream",
     "text": [
      "Total pt-BR stopwords: 207\n",
      "Total pt-BR stopwords appending common legal area words: 214\n",
      "Total pt-BR stopwords appending common legal area words and document categories: 253\n"
     ]
    }
   ],
   "source": [
    "stop_words01 = set(stopwords.words('portuguese'))\n",
    "print ('Total pt-BR stopwords:', len(stop_words01))\n",
    "\n",
    "stop_words02 = set(stop_words01)\n",
    "stop_words02.add('turma')\n",
    "stop_words02.add('art')\n",
    "stop_words02.add('agr')\n",
    "stop_words02.add('2ªt')\n",
    "stop_words02.add('-')\n",
    "stop_words02.add('1ªt')\n",
    "stop_words02.add('agravo')\n",
    "print ('Total pt-BR stopwords appending common legal area words:', len(stop_words02))\n",
    "\n",
    "# document category abbrev\n",
    "stop_words03 = set(stop_words02)\n",
    "for row in collection.find({}, {\"_id\": 0, \"categoria\": 1}):\n",
    "   stop_words03.add(row['categoria'].lower())\n",
    "\n",
    "print ('Total pt-BR stopwords appending common legal area words and document categories:', len(stop_words03))"
   ]
  },
  {
   "cell_type": "markdown",
   "id": "181a8133-b379-49c8-a22d-4fb012e5d2c7",
   "metadata": {
    "tags": []
   },
   "source": [
    "### Text preprocessing"
   ]
  },
  {
   "cell_type": "code",
   "execution_count": 7,
   "id": "bdb0cd2e-c6ed-46ce-9fe5-25ad90eac1d4",
   "metadata": {
    "tags": []
   },
   "outputs": [],
   "source": [
    "def clean_text(text):\n",
    "    text = text.translate(str.maketrans('', '', string.punctuation))\n",
    "    text = text.lower()\n",
    "    return text\n",
    "                 \n",
    "def get_tokens(text, stopwords):\n",
    "    tokens = nltk.word_tokenize(text, 'portuguese')\n",
    "    tokens = [t for t in tokens if not t in stopwords]\n",
    "    return tokens\n",
    "\n",
    "def get_dataset_most_common_words(dataset, stopwords, word_limit=5):    \n",
    "    tokens = defaultdict(list)\n",
    "\n",
    "    for doc in dataset:\n",
    "        doc_label = doc[0]\n",
    "        doc_tokens = get_tokens(clean_text(doc[1]), stopwords)    \n",
    "        tokens[doc_label].extend(doc_tokens)\n",
    "\n",
    "    for category_label, category_tokens in tokens.items():\n",
    "        fd = nltk.FreqDist(category_tokens)\n",
    "        print(category_label)\n",
    "        print(fd.most_common(word_limit), '\\n')\n",
    "        \n",
    "#get_dataset_most_common_words(ds_suite_01, stop_words01, 1)"
   ]
  },
  {
   "cell_type": "markdown",
   "id": "41013b5d-7f4e-456b-b9a7-d050a5e97fdc",
   "metadata": {},
   "source": [
    "### Training and Evaluation"
   ]
  },
  {
   "cell_type": "markdown",
   "id": "8bf2d7cb-61e7-41dc-a2f9-b37021e1bd3f",
   "metadata": {
    "tags": []
   },
   "source": [
    "#### Import common libraries"
   ]
  },
  {
   "cell_type": "code",
   "execution_count": 8,
   "id": "7fc975d9-f8da-49b1-8f59-c253f12a018a",
   "metadata": {},
   "outputs": [
    {
     "name": "stdout",
     "output_type": "stream",
     "text": [
      "Training libraries loaded\n"
     ]
    }
   ],
   "source": [
    "import random\n",
    "from sklearn.feature_extraction.text import TfidfVectorizer\n",
    "from sklearn.feature_extraction.text import CountVectorizer\n",
    "from sklearn.ensemble import RandomForestClassifier\n",
    "from sklearn import metrics\n",
    "import pickle\n",
    "import time\n",
    "from tabulate import tabulate\n",
    "\n",
    "print ('Training libraries loaded')"
   ]
  },
  {
   "cell_type": "markdown",
   "id": "9ca7fd35-1e81-43f3-92e7-d44f06fa2fb6",
   "metadata": {
    "tags": []
   },
   "source": [
    "#### Define common training procedures"
   ]
  },
  {
   "cell_type": "code",
   "execution_count": 9,
   "id": "64f4d0a6-a69f-45bf-8bcb-fdb44f4cacbd",
   "metadata": {},
   "outputs": [],
   "source": [
    "def get_splits (docs):\n",
    "    random.shuffle(docs)\n",
    "    \n",
    "    X_train = []\n",
    "    y_train = []\n",
    "    \n",
    "    X_test = []\n",
    "    y_test = []\n",
    "    \n",
    "    pivot = int(.8 * len(docs))\n",
    "    \n",
    "    for i in range(0, pivot):\n",
    "        X_train.append(docs[i][1])\n",
    "        y_train.append(docs[i][0])\n",
    "        \n",
    "    for i in range(pivot, len(docs)):\n",
    "        X_test.append(docs[i][1])\n",
    "        y_test.append(docs[i][0])\n",
    "        \n",
    "    return X_train, X_test, y_train, y_test\n",
    "\n",
    "def evaluate_class (classifier, vectorizer, X_test, y_test):\n",
    "    start_time = time.time()\n",
    "    \n",
    "    X_test_tfidf = vectorizer.transform(X_test)\n",
    "    y_pred = classifier.predict(X_test_tfidf)\n",
    "    \n",
    "    end_time = time.time() - start_time\n",
    "    \n",
    "    precision = metrics.precision_score(y_test, y_pred, average='weighted', zero_division=1)\n",
    "    recall = metrics.recall_score(y_test, y_pred, average='weighted', zero_division=1)\n",
    "    f1 = metrics.f1_score(y_test, y_pred, average='weighted', zero_division=1)\n",
    "    \n",
    "    return (precision, recall, f1, round(end_time, 4))\n",
    "    \n",
    "def train_and_evaluate_model(dataset, stopwords, features=10000):\n",
    "    X_train, X_test, y_train, y_test = get_splits(dataset)\n",
    "    \n",
    "    vectorizer = CountVectorizer(\n",
    "        stop_words=stopwords,\n",
    "        ngram_range=(1,3), \n",
    "        min_df=3, \n",
    "        analyzer='word', \n",
    "        max_features=features\n",
    "    )\n",
    "    \n",
    "    dtm = vectorizer.fit_transform(X_train)\n",
    "    start_time = time.time()\n",
    "    \n",
    "    rfc = RandomForestClassifier(\n",
    "        n_estimators=50, \n",
    "        random_state=42, \n",
    "        n_jobs=4\n",
    "        #max_depth=6\n",
    "    ).fit(dtm, y_train)    \n",
    "    \n",
    "    train_class = evaluate_class(rfc, vectorizer, X_train, y_train)\n",
    "    test_class = evaluate_class(rfc, vectorizer, X_test, y_test)\n",
    "    \n",
    "    end_time = time.time() - start_time\n",
    "    \n",
    "    print(\n",
    "        tabulate([\n",
    "            ['Train', train_class[0], train_class[1], train_class[2], train_class[3]], \n",
    "            ['Test', test_class[0], test_class[1], test_class[2], test_class[3]] \n",
    "        ], headers=['', 'Precision', 'Recall', 'F1-score', 'time(s)'])\n",
    "    )\n",
    "    print('\\nTotal execution time (s): ', round(end_time, 4))"
   ]
  },
  {
   "cell_type": "markdown",
   "id": "d4249403-efd5-47ed-8d9c-8d3bab581e24",
   "metadata": {},
   "source": [
    "#### Training"
   ]
  },
  {
   "cell_type": "code",
   "execution_count": 10,
   "id": "0e662ec4-5669-4ed1-b0e4-3c4115e27660",
   "metadata": {},
   "outputs": [],
   "source": [
    "# vectorizer max features (number of most common words)\n",
    "vec_feat_01 = 100\n",
    "vec_feat_02 = 500\n",
    "vec_feat_03 = 1000\n",
    "vec_feat_04 = 5000\n",
    "vec_feat_05 = 10000\n",
    "\n",
    "# stopwords\n",
    "sw = stop_words01"
   ]
  },
  {
   "cell_type": "markdown",
   "id": "57680303-8048-4912-9cb3-14166feecd1f",
   "metadata": {},
   "source": [
    "##### [1.1] Training configuration suite (ds_suite_01, vec_feat_01)"
   ]
  },
  {
   "cell_type": "code",
   "execution_count": 11,
   "id": "41365049-fab1-4172-b702-c2366de9b604",
   "metadata": {},
   "outputs": [
    {
     "name": "stdout",
     "output_type": "stream",
     "text": [
      "         Precision    Recall    F1-score    time(s)\n",
      "-----  -----------  --------  ----------  ---------\n",
      "Train     0.976428  0.976151    0.976        14.01\n",
      "Test      0.851063  0.853388    0.846451      3.499\n",
      "\n",
      "Total execution time (s):  33.3579\n"
     ]
    }
   ],
   "source": [
    "train_and_evaluate_model(ds_suite_01, sw, vec_feat_01)"
   ]
  },
  {
   "cell_type": "markdown",
   "id": "72ba54e7-c634-488c-bae6-219598933cc7",
   "metadata": {},
   "source": [
    "##### [1.2] Training configuration suite (ds_suite_01, vec_feat_02)"
   ]
  },
  {
   "cell_type": "code",
   "execution_count": 12,
   "id": "85cb3abb-64b2-45ed-8ca4-eabefcc27420",
   "metadata": {},
   "outputs": [
    {
     "name": "stdout",
     "output_type": "stream",
     "text": [
      "         Precision    Recall    F1-score    time(s)\n",
      "-----  -----------  --------  ----------  ---------\n",
      "Train     0.983816  0.983638    0.983559     14.466\n",
      "Test      0.893139  0.89458     0.891392      3.837\n",
      "\n",
      "Total execution time (s):  42.152\n"
     ]
    }
   ],
   "source": [
    "train_and_evaluate_model(ds_suite_01, sw, vec_feat_02)"
   ]
  },
  {
   "cell_type": "markdown",
   "id": "f0f41ffa-ab09-4164-aa88-7b4b0d30bc7f",
   "metadata": {},
   "source": [
    "##### [1.3] Training configuration suite (ds_suite_01, vec_feat_03)"
   ]
  },
  {
   "cell_type": "code",
   "execution_count": 13,
   "id": "fd7e8b78-cbb6-4e9f-ade5-0fe26a69da40",
   "metadata": {},
   "outputs": [
    {
     "name": "stdout",
     "output_type": "stream",
     "text": [
      "         Precision    Recall    F1-score    time(s)\n",
      "-----  -----------  --------  ----------  ---------\n",
      "Train     0.984301  0.984146    0.984077     14.823\n",
      "Test      0.90009   0.901084    0.898362      3.723\n",
      "\n",
      "Total execution time (s):  44.643\n"
     ]
    }
   ],
   "source": [
    "train_and_evaluate_model(ds_suite_01, sw, vec_feat_03)"
   ]
  },
  {
   "cell_type": "markdown",
   "id": "e995a1fe-3db6-4c01-8390-f9f77aac4573",
   "metadata": {},
   "source": [
    "##### [1.4] Training configuration suite (ds_suite_01, vec_feat_04)"
   ]
  },
  {
   "cell_type": "code",
   "execution_count": 14,
   "id": "1f04f565-f785-4e86-93c9-ab47a2d811b5",
   "metadata": {},
   "outputs": [
    {
     "name": "stdout",
     "output_type": "stream",
     "text": [
      "         Precision    Recall    F1-score    time(s)\n",
      "-----  -----------  --------  ----------  ---------\n",
      "Train     0.985017  0.984874    0.984804     15.09\n",
      "Test      0.907803  0.908943    0.906029      3.817\n",
      "\n",
      "Total execution time (s):  56.422\n"
     ]
    }
   ],
   "source": [
    "train_and_evaluate_model(ds_suite_01, sw, vec_feat_04)"
   ]
  },
  {
   "cell_type": "markdown",
   "id": "5b9b6d78-bb37-4494-ba2e-c3dc51fba96f",
   "metadata": {},
   "source": [
    "##### [1.5] Training configuration suite (ds_suite_01, vec_feat_05)"
   ]
  },
  {
   "cell_type": "code",
   "execution_count": 15,
   "id": "0d1296cc-1b9a-484e-9348-62463d1f400b",
   "metadata": {},
   "outputs": [
    {
     "name": "stdout",
     "output_type": "stream",
     "text": [
      "         Precision    Recall    F1-score    time(s)\n",
      "-----  -----------  --------  ----------  ---------\n",
      "Train     0.984873  0.984857    0.9848       15.379\n",
      "Test      0.907514  0.90874     0.906443      3.955\n",
      "\n",
      "Total execution time (s):  66.192\n"
     ]
    }
   ],
   "source": [
    "train_and_evaluate_model(ds_suite_01, sw, vec_feat_05)"
   ]
  },
  {
   "cell_type": "markdown",
   "id": "694ea3df-bf56-46f9-8b2f-d42682f3a5d4",
   "metadata": {},
   "source": [
    "---"
   ]
  },
  {
   "cell_type": "markdown",
   "id": "7593001e-aa83-4603-b5ae-eae180c9fdd2",
   "metadata": {},
   "source": [
    "##### [2.1] Training configuration suite (ds_suite_02, vec_feat_01)"
   ]
  },
  {
   "cell_type": "code",
   "execution_count": 16,
   "id": "76701766-99a6-450a-898a-9e8a3ed5b3b2",
   "metadata": {},
   "outputs": [
    {
     "name": "stdout",
     "output_type": "stream",
     "text": [
      "         Precision    Recall    F1-score    time(s)\n",
      "-----  -----------  --------  ----------  ---------\n",
      "Train     0.999915  0.999915    0.999915     26.448\n",
      "Test      0.889167  0.892954    0.885635      6.473\n",
      "\n",
      "Total execution time (s):  54.178\n"
     ]
    }
   ],
   "source": [
    "train_and_evaluate_model(ds_suite_02, sw, vec_feat_01)"
   ]
  },
  {
   "cell_type": "markdown",
   "id": "5178321d-03ce-4a39-853b-b460d734bd0b",
   "metadata": {},
   "source": [
    "##### [2.2] Training configuration suite (ds_suite_02, vec_feat_02)"
   ]
  },
  {
   "cell_type": "code",
   "execution_count": 17,
   "id": "03896daf-0718-4f3f-892e-0176fa928e6b",
   "metadata": {},
   "outputs": [
    {
     "name": "stdout",
     "output_type": "stream",
     "text": [
      "         Precision    Recall    F1-score    time(s)\n",
      "-----  -----------  --------  ----------  ---------\n",
      "Train     0.999898  0.999898    0.999898     26.756\n",
      "Test      0.93239   0.935027    0.931014      6.592\n",
      "\n",
      "Total execution time (s):  58.414\n"
     ]
    }
   ],
   "source": [
    "train_and_evaluate_model(ds_suite_02, sw, vec_feat_02)"
   ]
  },
  {
   "cell_type": "markdown",
   "id": "ec6fcec5-2653-4970-a9b2-582e6c014249",
   "metadata": {},
   "source": [
    "##### [2.3] Training configuration suite (ds_suite_02, vec_feat_03)"
   ]
  },
  {
   "cell_type": "code",
   "execution_count": 18,
   "id": "33d5bb48-0162-41b8-ba01-5cf3df1e2026",
   "metadata": {},
   "outputs": [
    {
     "name": "stdout",
     "output_type": "stream",
     "text": [
      "         Precision    Recall    F1-score    time(s)\n",
      "-----  -----------  --------  ----------  ---------\n",
      "Train     0.999966  0.999966    0.999966     27.171\n",
      "Test      0.949159  0.95        0.947549      6.704\n",
      "\n",
      "Total execution time (s):  59.983\n"
     ]
    }
   ],
   "source": [
    "train_and_evaluate_model(ds_suite_02, sw, vec_feat_03)"
   ]
  },
  {
   "cell_type": "markdown",
   "id": "a27e578d-3043-4399-ae46-8a00ab9517d5",
   "metadata": {},
   "source": [
    "##### [2.4] Training configuration suite (ds_suite_02, vec_feat_04)"
   ]
  },
  {
   "cell_type": "code",
   "execution_count": 19,
   "id": "3a35de3f-2068-437e-99ed-7127334bcb5a",
   "metadata": {},
   "outputs": [
    {
     "name": "stdout",
     "output_type": "stream",
     "text": [
      "         Precision    Recall    F1-score    time(s)\n",
      "-----  -----------  --------  ----------  ---------\n",
      "Train     1         1           1            27.642\n",
      "Test      0.943836  0.944309    0.941528      7.213\n",
      "\n",
      "Total execution time (s):  67.3\n"
     ]
    }
   ],
   "source": [
    "train_and_evaluate_model(ds_suite_02, sw, vec_feat_04)"
   ]
  },
  {
   "cell_type": "markdown",
   "id": "b96520c0-1cd4-45de-8bf9-37392b1a26cf",
   "metadata": {},
   "source": [
    "##### [2.5] Training configuration suite (ds_suite_02, vec_feat_05)"
   ]
  },
  {
   "cell_type": "code",
   "execution_count": 20,
   "id": "4d7c3ef5-c92d-4aba-aa27-32bab16b6bb5",
   "metadata": {},
   "outputs": [
    {
     "name": "stdout",
     "output_type": "stream",
     "text": [
      "         Precision    Recall    F1-score    time(s)\n",
      "-----  -----------  --------  ----------  ---------\n",
      "Train     0.999983  0.999983    0.999983     28.447\n",
      "Test      0.942629  0.943157    0.94036       7.261\n",
      "\n",
      "Total execution time (s):  69.708\n"
     ]
    }
   ],
   "source": [
    "train_and_evaluate_model(ds_suite_02, sw, vec_feat_05)"
   ]
  },
  {
   "cell_type": "markdown",
   "id": "cd57b097-2526-4b20-b113-6c6874c499a1",
   "metadata": {},
   "source": [
    "---"
   ]
  },
  {
   "cell_type": "markdown",
   "id": "fba0c3de-a72d-4fd8-9d6e-6afbddda9ac7",
   "metadata": {},
   "source": [
    "##### [3.1] Training configuration suite (ds_suite_03, vec_feat_01)"
   ]
  },
  {
   "cell_type": "code",
   "execution_count": 21,
   "id": "c1fab196-2fd8-4098-94d0-a684e5b906b7",
   "metadata": {},
   "outputs": [
    {
     "name": "stdout",
     "output_type": "stream",
     "text": [
      "         Precision    Recall    F1-score    time(s)\n",
      "-----  -----------  --------  ----------  ---------\n",
      "Train     0.979255  0.96692     0.970304    833.048\n",
      "Test      0.774653  0.775542    0.760228    208.242\n",
      "\n",
      "Total execution time (s):  1090.267\n"
     ]
    }
   ],
   "source": [
    "train_and_evaluate_model(ds_suite_03, sw, vec_feat_01)"
   ]
  },
  {
   "cell_type": "markdown",
   "id": "56e1eea0-dabf-40c2-9e36-775878a2e83d",
   "metadata": {},
   "source": [
    "##### [3.2] Training configuration suite (ds_suite_03, vec_feat_02)"
   ]
  },
  {
   "cell_type": "code",
   "execution_count": 22,
   "id": "5aa6611a-a762-4eb9-a1d8-9977612f0c9a",
   "metadata": {},
   "outputs": [
    {
     "name": "stdout",
     "output_type": "stream",
     "text": [
      "         Precision    Recall    F1-score    time(s)\n",
      "-----  -----------  --------  ----------  ---------\n",
      "Train     0.979188  0.966869    0.970248    856.992\n",
      "Test      0.943424  0.931707    0.930979    214.159\n",
      "\n",
      "Total execution time (s):  1110.4426\n"
     ]
    }
   ],
   "source": [
    "train_and_evaluate_model(ds_suite_03, sw, vec_feat_02)"
   ]
  },
  {
   "cell_type": "markdown",
   "id": "ef8ce19b-0e84-4297-9d02-dfda8066d34a",
   "metadata": {},
   "source": [
    "##### [3.3] Training configuration suite (ds_suite_03, vec_feat_03)"
   ]
  },
  {
   "cell_type": "code",
   "execution_count": 11,
   "id": "befc03e6-106e-4f73-a638-d9d930736104",
   "metadata": {},
   "outputs": [
    {
     "name": "stdout",
     "output_type": "stream",
     "text": [
      "         Precision    Recall    F1-score    time(s)\n",
      "-----  -----------  --------  ----------  ---------\n",
      "Train     0.979209  0.96692     0.97027     825.713\n",
      "Test      0.959179  0.945799    0.946928    211.936\n",
      "\n",
      "Total execution time (s):  1072.9289\n"
     ]
    }
   ],
   "source": [
    "train_and_evaluate_model(ds_suite_03, sw, vec_feat_03)"
   ]
  },
  {
   "cell_type": "markdown",
   "id": "f7305966-14d8-4a28-acd8-0cd82e23d7cf",
   "metadata": {},
   "source": [
    "##### [3.4] Training configuration suite (ds_suite_03, vec_feat_04)"
   ]
  },
  {
   "cell_type": "code",
   "execution_count": 12,
   "id": "74bb4ccf-6b08-46e2-a1c2-f6dcd84632bf",
   "metadata": {},
   "outputs": [
    {
     "name": "stdout",
     "output_type": "stream",
     "text": [
      "         Precision    Recall    F1-score    time(s)\n",
      "-----  -----------  --------  ----------  ---------\n",
      "Train     0.979283  0.967089    0.970412    842.048\n",
      "Test      0.968189  0.954268    0.956545    207.184\n",
      "\n",
      "Total execution time (s):  1089.7269\n"
     ]
    }
   ],
   "source": [
    "train_and_evaluate_model(ds_suite_03, sw, vec_feat_04)"
   ]
  },
  {
   "cell_type": "markdown",
   "id": "b8a592db-1411-498d-adc2-31edaf0a1450",
   "metadata": {},
   "source": [
    "##### [3.5] Training configuration suite (ds_suite_03, vec_feat_05)"
   ]
  },
  {
   "cell_type": "code",
   "execution_count": 13,
   "id": "f5283d5d-3b19-4d88-990c-1cd0de7813a8",
   "metadata": {},
   "outputs": [
    {
     "name": "stdout",
     "output_type": "stream",
     "text": [
      "         Precision    Recall    F1-score    time(s)\n",
      "-----  -----------  --------  ----------  ---------\n",
      "Train     0.97908   0.966445    0.969915    818.924\n",
      "Test      0.969421  0.956978    0.958654    203.406\n",
      "\n",
      "Total execution time (s):  1067.4074\n"
     ]
    }
   ],
   "source": [
    "train_and_evaluate_model(ds_suite_03, sw, vec_feat_05)"
   ]
  },
  {
   "cell_type": "code",
   "execution_count": null,
   "id": "ff0768df-72e4-4a28-93b7-6ea62b3e50a2",
   "metadata": {},
   "outputs": [],
   "source": []
  }
 ],
 "metadata": {
  "kernelspec": {
   "display_name": "Python 3 (ipykernel)",
   "language": "python",
   "name": "python3"
  },
  "language_info": {
   "codemirror_mode": {
    "name": "ipython",
    "version": 3
   },
   "file_extension": ".py",
   "mimetype": "text/x-python",
   "name": "python",
   "nbconvert_exporter": "python",
   "pygments_lexer": "ipython3",
   "version": "3.9.12"
  },
  "vscode": {
   "interpreter": {
    "hash": "f08154012ddadd8e950e6e9e035c7a7b32c136e7647e9b7c77e02eb723a8bedb"
   }
  }
 },
 "nbformat": 4,
 "nbformat_minor": 5
}
