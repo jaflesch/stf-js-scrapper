{
 "cells": [
  {
   "cell_type": "markdown",
   "id": "1ab80d76-3ea5-4d68-9ab2-5aca4faf0384",
   "metadata": {
    "tags": []
   },
   "source": [
    "# Imports"
   ]
  },
  {
   "cell_type": "code",
   "execution_count": 1,
   "id": "8dc0bda7-8ffc-410d-82c0-e9e95020c3ac",
   "metadata": {},
   "outputs": [
    {
     "name": "stdout",
     "output_type": "stream",
     "text": [
      "Conexao iniciada\n",
      "Conexao OK\n"
     ]
    }
   ],
   "source": [
    "import numpy as np\n",
    "import os, sys\n",
    "import pandas as pd\n",
    "import glob\n",
    "from pymongo import MongoClient\n",
    "\n",
    "print ('Conexao iniciada')\n",
    "conn = MongoClient()\n",
    "db = conn.lexit\n",
    "collection = db.judgements\n",
    "print ('Conexao OK')\n",
    "\n",
    "### Create category folders \n",
    "#folders = create_label_folders(collection)\n",
    "#print ('PASTAS OK')\n",
    "\n",
    "### Store record according category\n",
    "#export_record_to_category()\n",
    "#print ('Arquivos OK')\n",
    "\n",
    "def get_texts_from_judgement(judgement):\n",
    "    return (judgement['paginaInternaTitulo'] + judgement['ementa'] + judgement['decisao'] + judgement['tese'] + judgement['observacao'] + judgement['doutrina']).replace(\"\\n\", \"\")"
   ]
  },
  {
   "cell_type": "code",
   "execution_count": 2,
   "id": "b4ffa71f-11e3-4a42-9b40-2b967dfa3f43",
   "metadata": {},
   "outputs": [
    {
     "name": "stdout",
     "output_type": "stream",
     "text": [
      "10 ['E:\\\\UFRGS\\\\Mestrado\\\\DISSERTACAO\\\\web-scraper\\\\src\\\\ds\\\\../../db\\\\_2012.08-2013.merge.json', 'E:\\\\UFRGS\\\\Mestrado\\\\DISSERTACAO\\\\web-scraper\\\\src\\\\ds\\\\../../db\\\\_2013-2014.merge.json', 'E:\\\\UFRGS\\\\Mestrado\\\\DISSERTACAO\\\\web-scraper\\\\src\\\\ds\\\\../../db\\\\_2014-2015.merge.json', 'E:\\\\UFRGS\\\\Mestrado\\\\DISSERTACAO\\\\web-scraper\\\\src\\\\ds\\\\../../db\\\\_2015-2016.merge.json', 'E:\\\\UFRGS\\\\Mestrado\\\\DISSERTACAO\\\\web-scraper\\\\src\\\\ds\\\\../../db\\\\_2016-2017.merge.json', 'E:\\\\UFRGS\\\\Mestrado\\\\DISSERTACAO\\\\web-scraper\\\\src\\\\ds\\\\../../db\\\\_2017-2018.merge.json', 'E:\\\\UFRGS\\\\Mestrado\\\\DISSERTACAO\\\\web-scraper\\\\src\\\\ds\\\\../../db\\\\_2018-2019.merge.json', 'E:\\\\UFRGS\\\\Mestrado\\\\DISSERTACAO\\\\web-scraper\\\\src\\\\ds\\\\../../db\\\\_2019-2020.merge.json', 'E:\\\\UFRGS\\\\Mestrado\\\\DISSERTACAO\\\\web-scraper\\\\src\\\\ds\\\\../../db\\\\_2020-2021.merge.json', 'E:\\\\UFRGS\\\\Mestrado\\\\DISSERTACAO\\\\web-scraper\\\\src\\\\ds\\\\../../db\\\\_2021-2022.08.merge.json']\n"
     ]
    }
   ],
   "source": [
    "current_folder = os.getcwd()\n",
    "target_folder = os.path.join(current_folder, '../../db/*.merge.json')\n",
    "files = glob.glob(target_folder)\n",
    "print (len(files), files)\n"
   ]
  },
  {
   "cell_type": "code",
   "execution_count": 3,
   "id": "6ad8ded3-bf0e-40d3-aec1-22dc8a0fe068",
   "metadata": {},
   "outputs": [
    {
     "name": "stdout",
     "output_type": "stream",
     "text": [
      "['RE', 'RE 643992 AgREMENTA: AGRAVO REGIMENTAL. RECURSO EXTRAORDINÁRIO PREJUDICADO.    A decisão do Superior Tribunal de Justiça que determina o retorno dos autos à origem para novo julgamento torna prejudicada a análise do recurso extraordinário.    Agravo regimental a que se nega provimento.O Tribunal, por unanimidade e nos termos do voto do Relator, Ministro Joaquim Barbosa (Presidente), negou provimento ao agravo regimental. Ausentes, justificadamente, a Ministra Cármen Lúcia, em participação na Conferencia Internacional - El acceso individual a la justicia Constitucional en América Latina, em Arequipa, Peru, e, neste julgamento, o Ministro Ricardo Lewandowski. Plenário, 29.05.2013.- Acórdão(s) citado(s):(PREJUDICIALIDADE, RECURSO)AI 651966 AgR (2ªT), RE 597267 AgR (1ªT), AI 764057 AgR (1ªT), RE 539785 AgR-ED (2ªT), ARE 681023 ED (1ªT). Número de páginas: 6.Análise: 28/06/2013, AUR.']\n",
      "['MI', 'MI 1909 AgREMENTA     AGRAVO REGIMENTAL EM MANDADO DE INJUNÇÃO COLETIVO. ART. 40, § 4º, III, DA MAGNA CARTA. APOSENTADORIA ESPECIAL. SERVIDOR PÚBLICO ESTADUAL. LEGITIMIDADE PASSIVA DO PRESIDENTE DA REPÚBLICA. COMPETÊNCIA DO SUPREMO TRIBUNAL FEDERAL.    A jurisprudência desta Corte firmou-se no sentido de que o direito inscrito no art. 40, § 4º, da Magna Carta tem eficácia condicionada à regulamentação por meio de norma de caráter nacional, de iniciativa do Presidente da República. Dentro desse contexto, nos moldes do art. 102, I, “q”, da Carta Política, ainda que se trate de writ injuncional impetrado por sindicato de servidores públicos estaduais, distritais ou municipais, com o escopo de colmatar lacuna regulamentadora e viabilizar o exercício do direito à jubilação especial, a competência para o julgamento é deste Supremo Tribunal Federal.    Ao julgamento do MI 721-7/DF, o Plenário do STF fixou o entendimento de que, evidenciada a mora legislativa em disciplinar a aposentadoria especial do servidor público prevista no art. 40, § 4º, da Lei Maior, se impõe a adoção supletiva, via pronunciamento judicial, da disciplina própria do Regime Geral da Previdência Social, a teor do art. 57 da Lei 8.213/1991.    Agravo Regimental conhecido e não provido.O Tribunal, por maioria e nos termos do voto da Relatora, conheceu e negou provimento ao agravo regimental, vencido o Ministro Marco Aurélio. Votou o Presidente, Ministro Joaquim Barbosa. Impedido o Ministro Dias Toffoli. Ausentes, justificadamente, a Ministra Cármen Lúcia, em participação na Conferencia Internacional - El acceso individual a la justicia Constitucional en América Latina, em Arequipa, Peru, e, neste julgamento, os Ministros Gilmar Mendes e Ricardo Lewandowski. Plenário, 29.05.2013.- Acórdão(s) citado(s):(APOSENTADORIA ESPECIAL, SERVIDOR PÚBLICO)MI 721 (TP). Número de páginas: 15.Análise: 14/10/2013, IVA.']\n",
      "['ADI', 'ADI 4364 EDEMENTA    Embargos de declaração. Ação direta de inconstitucionalidade. Constitucionalidade dos pisos salariais estaduais definidos por norma do Estado de Santa Catarina. Inexistência de omissão, contradição ou obscuridade. Caráter consultivo sobre situação concreta não abarcada pelo julgado. Embargos acolhidos para esclarecimentos.    1. A menção ao dever de obediência a patamar mínimo fixado em lei foi feita - em relação aos trabalhadores alcançados pela lei estadual, não abrangidos por nenhuma forma de negociação coletiva anterior - como reforço argumentativo, com o intuito de realçar a liberdade de atuação dos órgãos sindicais na construção das políticas salarias dos seus representados. Como foi destacado, o piso salarial fixado pela legislação estadual, em razão da limitação contida na Lei Complementar Federal nº 103/2000 e conforme ressalva expressa no art. 3º da lei estadual questionada, não incidirá sobre as profissões que tenham convenção ou acordo coletivo de trabalho, preservando-se e ressalvando-se os pisos salariais assim definidos. Por sua vez, em relação aos trabalhadores não abrangidos por nenhuma forma anterior de negociação coletiva, o piso salarial estadual incidirá, passando a ser esse, portanto, o patamar mínimo legalmente assegurado à categoria, e não mais o “salário mínimo nacional”.    2. Embargos acolhidos somente para se prestarem esclarecimentos, não se alterando o dispositivo do acórdão embargado.O Tribunal, por unanimidade e nos termos do voto do Relator, acolheu os embargos de declaração. Votou o Presidente, Ministro Joaquim Barbosa. Ausentes, justificadamente, a Ministra Cármen Lúcia, em participação na Conferencia Internacional - El acceso individual a la justicia Constitucional en América Latina, em Arequipa, Peru, e, neste julgamento, o Ministro Ricardo Lewandowski. Plenário, 29.05.2013.- Acórdão(s) citado(s):(LEI ESTADUAL, INVASÃO, COMPETÊNCIA LEGISLATIVA, UNIÃO, DIREITO DO TRABALHO )ADI 4375 (TP). - Veja ADI 4364 do STF.Número de páginas: 12.Análise: 08/10/2013, IVA.']\n",
      "['Pet', 'Pet 3894 AgREMENTA    Agravo regimental em petição. Interpelação judicial. Procurador-Geral da República. Supostas práticas de atos de improbidade administrativa e de crimes de responsabilidade pelo Presidente da República. Incompetência originária do STF. Precedentes. Agravo regimental não provido.O Tribunal, por unanimidade e nos termos do voto do Relator, negou provimento ao agravo regimental. Votou o Presidente, Ministro Joaquim Barbosa. Ausentes, justificadamente, a Ministra Cármen Lúcia, em participação na Conferencia Internacional - El acceso individual a la justicia Constitucional en América Latina, em Arequipa, Peru, e, neste julgamento, o Ministro Ricardo Lewandowski. Plenário, 29.05.2013.- Acórdão(s) citado(s):(COMPETÊNCIA, STF, INTERPELAÇÃO JUDICIAL CIVIL)Pet 4008 AgR-ED (TP). (COMPETÊNCIA, INTERPELAÇÃO JUDICIAL PENAL)Pet 4444 AgR (TP). Número de páginas: 14.Análise: 03/10/2013, AND.']\n",
      "['MI', 'MI 4831 AgREmenta: MANDADO DE INJUNÇÃO. REVISÃO GERAL ANUAL. ART. 37, X, DA CONSTITUIÇÃO FEDERAL, EXISTÊNCIA DE LEI REGULAMENTADORA. DESCABIMENTO DO MANDADO DE INJUNÇÃO. AGRAVO DESPROVIDO.    1. Segundo a jurisprudência do STF, a existência, ainda que superveniente, de norma regulamentadora do direito constitucional pretendido leva à perda do objeto do mandado de injunção. A Lei 10.331/2001 regulamentou o art. 37, X, da Constituição, conferindo-lhe eficácia plena, e está em vigor desde 19 de dezembro de 2001. Posteriormente, a Lei 10.697/2003 também cumpriu o dispositivo constitucional. Ainda, o mandado de injunção não é o meio processual adequado para questionar a efetividade da lei regulamentadora. Fundamentos observados pela decisão agravada.    2. Agravo regimental desprovido.O Tribunal, por maioria e nos termos do voto do Relator, negou provimento ao agravo regimental, vencidos os Ministros Dias Toffoli e Marco Aurélio. Votou o Presidente, Ministro Joaquim Barbosa. Ausentes, justificadamente, a Ministra Cármen Lúcia, em participação na Conferencia Internacional - El acceso individual a la justicia Constitucional en América Latina, em Arequipa, Peru, e, neste julgamento, os Ministros Gilmar Mendes e Ricardo Lewandowski. Plenário, 29.05.2013.Número de páginas: 10.Análise: 04/09/2013, JUL.']\n",
      "['ARE', 'ARE 638195Ementa: CONSTITUCIONAL. FINANCEIRO. REQUISIÇÃO DE PEQUENO VALOR. CORREÇÃO MONETÁRIA E JUROS DE MORA. APURAÇÃO ENTRE A DATA DE REALIZAÇÃO DA CONTA DOS VALORES DEVIDOS E A EXPEDIÇÃO DA RPV. RELEVÂNCIA DO LAPSO TEMPORAL. CABIMENTO.    REPERCUSSÃO GERAL RECONHECIDA QUANTO AO CABIMENTO DA APLICAÇÃO DE CORREÇÃO MONETÁRIA.    1. “O SUPREMO TRIBUNAL FEDERAL, CONHECENDO DO RECURSO EXTRAORDINÁRIO, JULGARÁ A CAUSA, APLICANDO O DIREITO À ESPÉCIE” (Súmula 456/STF). Aplicabilidade ao recurso extraordinário em exame.    2. É devida correção monetária no período compreendido entre a data de elaboração do cálculo da requisição de pequeno valor - RPV e sua expedição para pagamento.    Recurso extraordinário conhecido, ao qual se dá parcial provimento, para cassar o acórdão-recorrido, de modo que o TJ/RS possa dar continuidade ao julgamento para definir qual é o índice de correção monetária aplicável em âmbito estadual.O Tribunal, por maioria e nos termos do voto do Relator, Ministro Joaquim Barbosa (Presidente), conheceu e deu provimento ao recurso extraordinário, vencidos o Ministro Gilmar Mendes, que lhe negava provimento, e o Ministro Marco Aurélio, que lhe dava provimento em maior extensão. Falaram, pelo recorrido, a Dra. Ivete Maria Razzera, Procuradora do Estado do Rio Grande do Sul, e pela Confederação Nacional dos Servidores Público, o Dr. Júlio Bonafonte. Ausente, justificadamente, a Ministra Cármen Lúcia, em participação na Conferencia Internacional - El acceso individual a la justicia Constitucional en América Latina, em Arequipa, Peru. Plenário, 29.05.2013.É devida correção monetária no período compreendido entre a data de elaboração do cálculo da requisição de pequeno valor – RPV e sua expedição para pagamento.Obs: Redação da tese aprovada nos termos do item 2 da Ata da 12ª Sessão Administrativa do STF, realizada em 09/12/2015.- Acórdão(s) citado(s):(RECURSO EXTRAORDINÁRIO, REEXAME, FATO, PROVA)RE 539130 (2ªT), HC 40609 (TP), RE 9916 (2ªT), RE 46988 ED (TP). (CORREÇÃO MONETÁRIA, PEDIDO IMPLÍCITO)HC 96039 (1ªT). (PRECATÓRIO, CORREÇÃO MONETÁRIA, ÍNDICE, CADERNETA DE POUPANÇA)ADI 4425 (TP), ADI 4357 (TP). (PRECATÓRIO, JUROS DE MORA, DATA DA LIQUIDAÇÃO, DATA DA EXPEDIÇÃO)RE 579431 QO (TP). (PRECATÓRIO, JUROS DE MORA, PRAZO CONSTITUCIONAL)RE 591085 QO-RG. (PRECATÓRIO, JUROS DE MORA, INADIMPLÊNCIA)RE 155979 (2ªT), AI 452966 AgR (2ªT), RE 438172 AgR (2ªT), RE 463349 AgR (1ªT), RE 533133 AgR (2ªT), RE 512611 ED (2ªT). - Decisão monocrática citada:(PRECATÓRIO, JUROS DE MORA, INADIMPLÊNCIA)RE 400413 AgR.Número de páginas: 50.Análise: 27/01/2014, GOD.Revisão: 24/02/2014, SER.']\n",
      "['MI', 'MI 897 EDEMBARGOS DE DECLARAÇÃO RECEBIDOS COMO AGRAVO REGIMENTAL. MANDADO DE INJUNÇÃO. SERVIDOR PÚBLICO CIVIL. APOSENTADORIA ESPECIAL. ART. 40, § 4º, DA CONSTITUIÇÃO DA REPÚBLICA. AFERIÇÃO CONCRETA DOS REQUISITOS PARA O EXERCÍCIO DO DIREITO. COMPETÊNCIA DA AUTORIDADE ADMINISTRATIVA.    Não cabe ao Poder Judiciário, em mandado de injunção, substituir-se à autoridade administrativa competente, de molde a aferir o efetivo preenchimento dos requisitos para a jubilação especial do impetrante, senão possibilitar a análise do pedido, indicando a norma aplicável em caráter supletório. Precedente do Plenário desta Corte (MI 1286 ED, Relatora Ministra CÁRMEN LÚCIA, Dje 19.02.2010).    Embargos de declaração recebidos como agravo regimental, ao qual se nega provimento.O Tribunal, por maioria, vencido o Ministro Marco Aurélio, recebeu os embargos de declaração como agravo regimental e a este, por unanimidade, negou provimento, nos termos do voto da Relatora. Votou o Presidente, Ministro Joaquim Barbosa. Impedido o Ministro Dias Toffoli. Ausentes, justificadamente, a Ministra Cármen Lúcia, em participação na Conferencia Internacional - El acceso individual a la justicia Constitucional en América Latina, em Arequipa, Peru, e, neste julgamento, os Ministros Gilmar Mendes e Ricardo Lewandowski. Plenário, 29.05.2013.Número de páginas: 11.Análise: 01/07/2013, MAR.PASSOS, Calmon. Mandado de segurança coletivo, mandade de injunção, \"habeas data\": Constituição e processo. Rio de Janeiro: Forense, 1989, p. 98-9.']\n",
      "['Rcl', 'Rcl 10716 AgR-EDEmbargos de declaração em agravo regimental em reclamação constitucional. 2. Reclamação contra decisão que aplica a sistemática da repercussão geral. Conversão em agravo regimental. Impossibilidade. Reclamação ajuizada após 19.12.2009. AI-QO 760.358. 3. Embargos protelatórios. Imposição de multa. 3. Embargos de declaração rejeitados.O Tribunal, por unanimidade e nos termos do voto do Relator, rejeitou os embargos de declaração e aplicou multa de 1% (um por cento) sobre o valor corrigido da causa. Ausentes, justificadamente, a Ministra Cármen Lúcia, em participação na Conferencia Internacional - El acceso individual a la justicia Constitucional en América Latina, em Arequipa, Peru, e, neste julgamento, o Ministro Ricardo Lewandowski. Presidiu o julgamento o Ministro Joaquim Barbosa. Plenário, 29.05.2013.- Acórdão(s) citado(s):(RECURSO, CARÁTER ABUSIVO, MULTA)AI 526614 ED (1ªT), AI 445399 AgR-ED (1ªT). Número de páginas: 5.Análise: 24/09/2013, MAR.']\n",
      "['MI', 'MI 1675 AgREMENTA    AGRAVO REGIMENTAL EM MANDADO DE INJUNÇÃO. ART. 40, § 4º, III, DA MAGNA CARTA. ORDEM CONCEDIDA PARA ASSEGURAR O EXAME DE PEDIDO DE APOSENTADORIA ESPECIAL DE SERVIDOR PÚBLICO À LUZ DO ART. 57 DA LEI 8.213/91.    Ordem injuncional fundada na inexistência de norma regulamentadora do art. 40, § 4º, III, da Carta da República, a impedir o exercício de direito constitucionalmente assegurado, qual seja, a aposentadoria especial do servidor público que exerce atividades sob condições prejudiciais à saúde ou à integridade física.    Ao julgamento do MI 721-7/DF, o Plenário do STF fixou o entendimento de que, evidenciada a mora legislativa em disciplinar a aposentadoria especial do servidor público prevista no art. 40, § 4º, da Lei Maior, se impõe a adoção supletiva, via pronunciamento judicial, da disciplina própria do Regime Geral da Previdência Social, a teor do art. 57 da Lei 8.213/1991.    Precedentes.    Agravo Regimental conhecido e não provido.O Tribunal, por maioria e nos termos do voto da Relatora, conheceu e negou provimento ao agravo regimental, vencido o Ministro Marco Aurélio. Votou o Presidente, Ministro Joaquim Barbosa. Impedido o Ministro Dias Toffoli. Ausentes, justificadamente, a Ministra Cármen Lúcia, em participação na Conferencia Internacional - El acceso individual a la justicia Constitucional en América Latina, em Arequipa, Peru, e, neste julgamento, os Ministros Gilmar Mendes e Ricardo Lewandowski. Plenário, 29.05.2013.- Acórdão(s) citado(s):(APOSENTADORIA ESPECIAL, SERVIDOR PÚBLICO, REGIME GERAL DE PREVIDÊNCIA SOCIAL (RGPS))MI 721 (TP), MI 1467 AgR (TP), MI 2745 ED (TP). - Decisão monocrática citada:(CUSTEIO, APOSENTADORIA ESPECIAL, SERVIDOR PÚBLICO)MI 822.Número de páginas: 14.Análise: 20/09/2013, IVA.']\n",
      "['MS', 'MS 30145 AgRE M E N T A: MANDADO DE SEGURANÇA – IMPETRAÇÃO CONTRA ATO EMANADO DE MINISTRO RELATOR NO SUPREMO TRIBUNAL FEDERAL QUE DETERMINA A APLICAÇÃO DA SISTEMÁTICA DA REPERCUSSÃO GERAL – INADMISSIBILIDADE DO “WRIT” MANDAMENTAL – RECURSO DE AGRAVO IMPROVIDO.    - Revela-se insuscetível de utilização o remédio constitucional do mandado de segurança quando impetrado contra ato de Ministro Relator que, no Supremo Tribunal Federal, faz incidir a sistemática da repercussão geral fundada no art. 543-B e respectivos parágrafos do CPC. Precedentes.O Tribunal, por unanimidade e nos termos do voto do Relator, negou provimento ao agravo regimental. Votou o Presidente, Ministro Joaquim Barbosa. Ausentes, justificadamente, a Ministra Cármen Lúcia, em participação na Conferencia Internacional - El acceso individual a la justicia Constitucional en América Latina, em Arequipa, Peru, e, neste julgamento, os Ministros Gilmar Mendes e Ricardo Lewandowski. Plenário, 29.05.2013.- Acórdão(s) citado(s):(SITEMÁTICA DA REPERCUSSÃO GERAL, RECORRIBILIDADE)RE 540410 QO (TP), AI 715423 QO. (CABIMENTO, MS)MS 29000 AgR (TP), MS 28991 AgR (TP). - Decisões monocráticas citadas:(SISTEMÁTICA DA REPERCUSSÃO GERAL, MS)AI 705038 AgR, AI 630083 AgR-AgR, AI 735918 AgR.(CABIMENTO, MS)MS 28984, MS 28986, MS 28994, MS 28995, MS 28992, MS 31088, MS 30930.Número de páginas: 10.Análise: 22/10/2013, BRU.']\n"
     ]
    }
   ],
   "source": [
    "#import json\n",
    "ds = []\n",
    "for row in collection.find():\n",
    "  ds.append([ row['categoria'], get_texts_from_judgement(row)])  \n",
    "\n",
    "for i in range(0, 10):\n",
    "    print(ds[i])"
   ]
  },
  {
   "cell_type": "code",
   "execution_count": 7,
   "id": "bdb0cd2e-c6ed-46ce-9fe5-25ad90eac1d4",
   "metadata": {},
   "outputs": [
    {
     "name": "stdout",
     "output_type": "stream",
     "text": [
      "{'estas', 'depois', 'teriam', 'teve', 'fomos', 'estávamos', 'eles', 'pelos', 'estar', 'estivéssemos', 'houvessem', 'um', 'tu', 'estiver', 'minhas', 'formos', 'fora', 'houver', 'tivéssemos', 'estivesse', 'estava', 'estivemos', 'aquele', 'há', 'nossas', 'mais', 'houveria', 'essas', 'era', 'mas', 'meu', 'seus', 'serão', 'dele', 'teríamos', 'teremos', 'houvéramos', 'fossem', 'só', 'temos', 'me', 'ao', 'teria', 'seja', 'tenha', 'tivemos', 'nos', 'tivera', 'estivera', 'esse', 'deles', 'tivermos', 'os', 'tenhamos', 'pelo', 'ela', 'terão', 'tínhamos', 'tem', 'uma', 'foi', 'foram', 'estou', 'das', 'qual', 'suas', 'houveriam', 'estivermos', 'as', 'no', 'nem', 'estivessem', 'fui', 'que', 'estejamos', 'aquela', 'esta', 'para', 'lhe', 'por', 'se', 'nossos', 'eu', 'seu', 'fosse', 'tive', 'não', 'quando', 'aquelas', 'numa', 'seríamos', 'houverem', 'ser', 'fôssemos', 'tivesse', 'estejam', 'tiveram', 'forem', 'estão', 'e', 'houveríamos', 'minha', 'estivéramos', 'pelas', 'quem', 'estes', 'seremos', 'somos', 'aquilo', 'houverei', 'elas', 'aqueles', 'for', 'terá', 'tinham', 'sem', 'você', 'houvemos', 'teu', 'entre', 'na', 'tua', 'lhes', 'houverão', 'houveremos', 'terei', 'tiverem', 'sua', 'essa', 'eram', 'houvermos', 'a', 'esses', 'sejam', 'às', 'tenham', 'houverá', 'houvesse', 'meus', 'estavam', 'ou', 'com', 'serei', 'esteve', 'estamos', 'seria', 'houveram', 'da', 'este', 'tém', 'vos', 'dela', 'nas', 'vocês', 'está', 'de', 'houvera', 'tinha', 'houvéssemos', 'será', 'tiver', 'à', 'o', 'nosso', 'sejamos', 'até', 'muito', 'aos', 'pela', 'hajam', 'mesmo', 'havemos', 'sou', 'dos', 'éramos', 'esteja', 'como', 'fôramos', 'hajamos', 'nós', 'seriam', 'haja', 'ele', 'teus', 'tivessem', 'isto', 'estive', 'estiveram', 'também', 'delas', 'é', 'estiverem', 'haver', 'hei', 'tenho', 'são', 'do', 'num', 'em', 'houve', 'te', 'hão', 'já', 'isso', 'tuas', 'nossa', 'tivéramos'}\n",
      "RE\n",
      "[('agravo', 30619), ('re', 26429), ('agr', 22126), ('turma', 21569), ('recurso', 21401), ('regimental', 19332), ('extraordinário', 18584), ('art', 14233), ('provimento', 14043), ('termos', 13695), ('1ªt', 12942), ('2ªt', 12763), ('–', 12254), ('voto', 12085), ('páginas', 11671), ('ministro', 11406), ('relator', 10814), ('tribunal', 10194), ('acórdãos', 9439), ('direito', 9107)]\n",
      "MI\n",
      "[('mi', 1784), ('tp', 1323), ('agravo', 1015), ('injunção', 853), ('mandado', 815), ('regimental', 814), ('agr', 810), ('ministro', 779), ('aposentadoria', 730), ('especial', 691), ('art', 628), ('tribunal', 527), ('direito', 484), ('plenário', 467), ('lei', 450), ('–', 433), ('constituição', 421), ('voto', 418), ('termos', 412), ('julgamento', 406)]\n",
      "ADI\n",
      "[('tp', 16227), ('adi', 15361), ('lei', 8097), ('art', 7642), ('p', 7176), ('ação', 6543), ('inconstitucionalidade', 6279), ('constituição', 5586), ('direta', 5446), ('direito', 5153), ('estado', 4781), ('federal', 4458), ('ministro', 4222), ('tribunal', 4132), ('constitucional', 3984), ('nº', 3790), ('plenário', 3368), ('paulo', 3221), ('ed', 2872), ('–', 2790)]\n",
      "Pet\n",
      "[('agravo', 1404), ('pet', 1047), ('regimental', 942), ('turma', 902), ('tp', 887), ('agr', 758), ('federal', 709), ('tribunal', 703), ('termos', 691), ('ministro', 688), ('art', 624), ('penal', 615), ('competência', 594), ('relator', 588), ('2ªt', 581), ('voto', 575), ('provimento', 568), ('p', 549), ('–', 539), ('1ªt', 519)]\n",
      "ARE\n",
      "[('agravo', 102541), ('agr', 64308), ('are', 64266), ('recurso', 54331), ('regimental', 50808), ('extraordinário', 47422), ('turma', 46412), ('1ªt', 33856), ('termos', 33784), ('2ªt', 32375), ('art', 30726), ('provimento', 30136), ('§', 28324), ('voto', 26717), ('páginas', 26419), ('relator', 23538), ('negou', 23005), ('tribunal', 22587), ('ministro', 22047), ('acórdãos', 21745)]\n",
      "Rcl\n",
      "[('rcl', 23896), ('agravo', 17347), ('agr', 15949), ('reclamação', 12675), ('regimental', 11278), ('turma', 10839), ('tp', 8963), ('decisão', 7707), ('1ªt', 7575), ('provimento', 6808), ('2ªt', 6497), ('termos', 6031), ('voto', 5557), ('páginas', 4897), ('relator', 4725), ('tribunal', 4544), ('ministro', 4517), ('–', 4470), ('art', 4267), ('acórdãos', 4139)]\n",
      "MS\n",
      "[('ms', 6240), ('agravo', 4541), ('segurança', 3813), ('turma', 3320), ('tp', 3274), ('regimental', 3220), ('agr', 3072), ('mandado', 3036), ('tribunal', 2565), ('ministro', 2355), ('–', 2329), ('termos', 2055), ('decisão', 2054), ('art', 2049), ('voto', 1992), ('direito', 1907), ('relator', 1874), ('provimento', 1842), ('1ªt', 1791), ('páginas', 1769)]\n",
      "AR\n",
      "[('rescisória', 1081), ('ação', 1046), ('ar', 1020), ('tp', 1005), ('agravo', 966), ('agr', 863), ('decisão', 688), ('regimental', 683), ('tribunal', 641), ('ministro', 564), ('art', 557), ('termos', 491), ('plenário', 476), ('voto', 433), ('re', 421), ('relator', 411), ('provimento', 408), ('–', 407), ('páginas', 388), ('embargos', 384)]\n",
      "AI\n",
      "[('agravo', 10184), ('regimental', 6914), ('ai', 6116), ('turma', 5877), ('agr', 5255), ('ministro', 3417), ('recurso', 3318), ('termos', 3138), ('provimento', 2985), ('voto', 2921), ('páginas', 2874), ('extraordinário', 2854), ('senhor', 2779), ('relator', 2612), ('1ªt', 2605), ('2ªt', 2551), ('negou', 2515), ('–', 2408), ('re', 2357), ('instrumento', 2274)]\n",
      "AC\n",
      "[('agravo', 596), ('ac', 490), ('cautelar', 481), ('regimental', 449), ('–', 424), ('turma', 376), ('recurso', 345), ('ação', 338), ('agr', 330), ('tribunal', 270), ('ministro', 267), ('extraordinário', 247), ('termos', 242), ('tp', 240), ('provimento', 233), ('voto', 227), ('páginas', 217), ('2ªt', 216), ('1ªt', 199), ('relator', 198)]\n",
      "HC\n",
      "[('hc', 68332), ('turma', 33944), ('1ªt', 33042), ('2ªt', 29697), ('corpus', 28450), ('habeas', 26115), ('agr', 24133), ('agravo', 20672), ('regimental', 18267), ('penal', 17654), ('–', 16208), ('ministro', 15929), ('tribunal', 14066), ('ordem', 13721), ('relator', 12534), ('termos', 12521), ('voto', 12133), ('primeira', 11900), ('min', 11483), ('páginas', 11399)]\n",
      "RHC\n",
      "[('hc', 11286), ('1ªt', 7921), ('turma', 7415), ('recurso', 6639), ('2ªt', 6571), ('rhc', 5885), ('corpus', 5708), ('habeas', 5582), ('agravo', 5076), ('agr', 4853), ('penal', 4665), ('ordinário', 4626), ('regimental', 4275), ('–', 3713), ('pena', 3192), ('provimento', 3097), ('termos', 2984), ('ministro', 2952), ('relator', 2891), ('voto', 2840)]\n",
      "EI\n",
      "[('agravo', 7), ('regimental', 7), ('relator', 5), ('declaração', 5), ('julgamento', 4), ('embargos', 4), ('turma', 4), ('ei', 3), ('4', 3), ('exceção', 3), ('incompetência', 3), ('processos', 3), ('plenário', 3), ('2', 3), ('3', 3), ('termos', 3), ('voto', 3), ('ministro', 3), ('páginas', 3), ('incidente', 2)]\n",
      "ACO\n",
      "[('aco', 2244), ('tp', 1774), ('agravo', 1405), ('agr', 1203), ('ação', 1096), ('tribunal', 1063), ('art', 1030), ('originária', 958), ('regimental', 938), ('–', 907), ('termos', 864), ('ministro', 845), ('federal', 838), ('união', 818), ('voto', 736), ('relator', 693), ('provimento', 684), ('plenário', 665), ('cível', 663), ('estado', 662)]\n",
      "RMS\n",
      "[('agravo', 1690), ('rms', 1653), ('turma', 1569), ('recurso', 1535), ('segurança', 1310), ('mandado', 1262), ('agr', 1076), ('regimental', 1015), ('ordinário', 993), ('1ªt', 837), ('–', 834), ('2ªt', 818), ('termos', 776), ('provimento', 775), ('ministro', 758), ('voto', 717), ('decisão', 713), ('art', 683), ('administrativo', 661), ('páginas', 655)]\n",
      "RvC\n",
      "[('criminal', 103), ('revisão', 95), ('penal', 82), ('agravo', 72), ('rvc', 68), ('p', 67), ('tribunal', 64), ('regimental', 59), ('1ªt', 58), ('tp', 57), ('hc', 54), ('embargos', 50), ('processo', 50), ('agr', 50), ('declaração', 44), ('2ªt', 44), ('ed', 40), ('decisão', 35), ('termos', 32), ('2', 31)]\n",
      "Inq\n",
      "[('penal', 1343), ('inq', 1223), ('denúncia', 1066), ('ministro', 927), ('art', 915), ('tp', 824), ('turma', 820), ('p', 798), ('2ªt', 692), ('processo', 637), ('1ªt', 607), ('federal', 575), ('ed', 537), ('crime', 484), ('relator', 475), ('código', 469), ('voto', 459), ('termos', 452), ('inquérito', 447), ('tribunal', 422)]\n",
      "AP\n",
      "[('penal', 2333), ('p', 1587), ('art', 1384), ('2ªt', 1025), ('ministro', 1024), ('tp', 1012), ('ed', 998), ('código', 989), ('1ªt', 895), ('processo', 859), ('ap', 852), ('embargos', 843), ('hc', 789), ('voto', 709), ('ação', 705), ('pena', 705), ('crime', 697), ('tribunal', 663), ('direito', 647), ('relator', 617)]\n",
      "Ext\n",
      "[('extradição', 2680), ('art', 1875), ('ext', 1789), ('tp', 1284), ('lei', 1215), ('extraditando', 1092), ('penal', 1028), ('pedido', 1016), ('turma', 886), ('–', 852), ('estado', 784), ('requerente', 691), ('dupla', 672), ('código', 654), ('brasil', 627), ('crime', 619), ('pena', 593), ('prisão', 570), ('legislação', 551), ('2', 543)]\n",
      "AO\n",
      "[('agravo', 555), ('agr', 393), ('ação', 376), ('turma', 376), ('originária', 365), ('tribunal', 364), ('tp', 360), ('art', 351), ('regimental', 333), ('federal', 306), ('termos', 276), ('provimento', 261), ('competência', 252), ('2ªt', 240), ('voto', 237), ('decisão', 226), ('relator', 218), ('ministro', 215), ('1ªt', 209), ('declaração', 198)]\n",
      "CC\n",
      "[('competência', 139), ('conflito', 111), ('justiça', 108), ('tp', 68), ('agravo', 67), ('cc', 63), ('regimental', 60), ('tribunal', 57), ('rcl', 57), ('trabalho', 56), ('agr', 54), ('comum', 46), ('ministro', 43), ('julgamento', 42), ('–', 39), ('relator', 38), ('voto', 36), ('termos', 35), ('plenário', 34), ('páginas', 34)]\n",
      "ADPF\n",
      "[('tp', 2223), ('adpf', 1612), ('p', 1201), ('art', 920), ('adi', 918), ('arguição', 835), ('preceito', 812), ('lei', 812), ('tribunal', 809), ('fundamental', 801), ('descumprimento', 771), ('direito', 723), ('constitucional', 687), ('constituição', 681), ('agr', 646), ('federal', 617), ('ministro', 615), ('plenário', 542), ('ed', 499), ('paulo', 472)]\n",
      "SS\n",
      "[('agravo', 469), ('tp', 341), ('regimental', 326), ('suspensão', 323), ('segurança', 317), ('agr', 296), ('ss', 271), ('tribunal', 250), ('ministro', 210), ('decisão', 201), ('ordem', 199), ('provimento', 190), ('presidente', 169), ('lesão', 166), ('plenário', 153), ('termos', 150), ('risco', 149), ('nega', 148), ('voto', 144), ('contracautela', 139)]\n",
      "SL\n",
      "[('agravo', 524), ('suspensão', 428), ('agr', 422), ('tp', 409), ('regimental', 315), ('sl', 289), ('liminar', 288), ('decisão', 275), ('tribunal', 262), ('ordem', 260), ('ministro', 242), ('provimento', 219), ('lesão', 204), ('risco', 202), ('presidente', 199), ('pública', 196), ('plenário', 187), ('termos', 181), ('segurança', 174), ('voto', 169)]\n",
      "PPE\n",
      "[('ppe', 120), ('prisão', 83), ('extradição', 80), ('–', 58), ('preventiva', 46), ('pedido', 41), ('lei', 35), ('agravo', 33), ('turma', 31), ('extraditando', 30), ('art', 27), ('regimental', 27), ('estado', 26), ('tp', 25), ('processo', 22), ('termos', 21), ('penal', 20), ('ext', 19), ('voto', 17), ('federal', 17)]\n",
      "Cm\n",
      "[('agravo', 8), ('regimental', 7), ('decisão', 5), ('ministro', 5), ('declaração', 4), ('comunicação', 3), ('embargos', 3), ('turma', 3), ('julgamento', 3), ('plenário', 3), ('ausentes', 3), ('justificadamente', 3), ('ministros', 3), ('celso', 3), ('mello', 3), ('ricardo', 3), ('lewandowski', 3), ('presidente', 3), ('recurso', 3), ('cm', 2)]\n",
      "STA\n",
      "[('agravo', 211), ('regimental', 193), ('suspensão', 138), ('decisão', 104), ('tp', 101), ('tribunal', 99), ('ministro', 81), ('tutela', 80), ('sta', 78), ('antecipada', 77), ('provimento', 77), ('agr', 76), ('plenário', 70), ('termos', 68), ('presidente', 68), ('páginas', 66), ('voto', 65), ('negou', 60), ('ordem', 59), ('sessão', 56)]\n",
      "ADO\n",
      "[('p', 261), ('tp', 210), ('direito', 119), ('omissão', 118), ('constitucional', 106), ('adi', 105), ('n', 101), ('ação', 94), ('constituição', 89), ('ed', 86), ('agr', 84), ('inconstitucionalidade', 74), ('2', 71), ('paulo', 69), ('lei', 67), ('art', 66), ('federal', 61), ('direta', 60), ('direitos', 60), ('tribunal', 58)]\n",
      "EP\n",
      "[('pena', 80), ('agravo', 72), ('penal', 69), ('regimental', 61), ('tp', 54), ('multa', 53), ('execução', 52), ('tribunal', 44), ('ministro', 42), ('regime', 40), ('ep', 37), ('indulto', 37), ('plenário', 35), ('acórdãos', 34), ('1', 33), ('2', 31), ('p', 31), ('relator', 30), ('provimento', 28), ('termos', 28)]\n",
      "ADC\n",
      "[('p', 314), ('art', 273), ('tp', 225), ('hc', 208), ('direito', 166), ('constitucionalidade', 156), ('lei', 139), ('código', 134), ('paulo', 122), ('1ªt', 119), ('agr', 118), ('ação', 116), ('ed', 115), ('constitucional', 111), ('2ªt', 109), ('adi', 102), ('§', 101), ('ministro', 98), ('constituição', 93), ('tribunal', 83)]\n",
      "HD\n",
      "[('agravo', 15), ('ministro', 13), ('regimental', 12), ('habeas', 7), ('data', 7), ('termos', 7), ('hc', 7), ('negou', 6), ('provimento', 6), ('turma', 6), ('tribunal', 6), ('hd', 5), ('nega', 5), ('voto', 5), ('relator', 5), ('páginas', 4), ('–', 4), ('unanimidade', 4), ('relatora', 4), ('agrementa', 3)]\n",
      "RC\n",
      "[('penal', 23), ('art', 21), ('lei', 18), ('nº', 12), ('717083', 12), ('recurso', 11), ('crime', 11), ('processo', 11), ('nacional', 10), ('federal', 10), ('código', 9), ('segurança', 9), ('“', 9), ('”', 9), ('rc', 8), ('ii', 8), ('justiça', 8), ('direito', 7), ('criminal', 6), ('estado', 6)]\n",
      "AImp\n",
      "[('agravo', 29), ('regimental', 27), ('impedimento', 21), ('ministro', 19), ('–', 18), ('aimp', 16), ('tribunal', 14), ('arguição', 12), ('relator', 12), ('agr', 12), ('argumentos', 11), ('nega', 11), ('termos', 11), ('presidente', 11), ('art', 11), ('decisão', 10), ('unanimidade', 10), ('voto', 10), ('provimento', 10), ('plenário', 10)]\n",
      "AS\n",
      "[('agravo', 54), ('suspeição', 44), ('regimental', 34), ('arguição', 33), ('art', 30), ('tribunal', 26), ('embargos', 26), ('ministro', 25), ('declaração', 25), ('voto', 19), ('provimento', 18), ('unanimidade', 18), ('termos', 18), ('plenário', 18), ('presidente', 17), ('sessão', 16), ('virtual', 16), ('interno', 16), ('relator', 15), ('tp', 15)]\n",
      "STP\n",
      "[('tp', 332), ('agr', 254), ('agravo', 229), ('suspensão', 183), ('decisão', 153), ('tribunal', 141), ('ministro', 134), ('contracautela', 132), ('ordem', 110), ('stp', 106), ('regimental', 106), ('risco', 90), ('provimento', 87), ('presidente', 87), ('termos', 84), ('lesão', 83), ('tutela', 82), ('públicas', 82), ('pública', 82), ('aco', 81)]\n",
      "PSV\n",
      "[('proposta', 29), ('vinculante', 29), ('súmula', 28), ('ministro', 27), ('re', 26), ('tp', 21), ('agr', 21), ('1ªt', 16), ('revisão', 15), ('presidente', 14), ('2ªt', 14), ('constitucional', 13), ('plenário', 13), ('voto', 12), ('sessão', 12), ('sobre', 12), ('ministros', 12), ('nº', 11), ('edição', 11), ('dias', 11)]\n",
      "SIRDR\n",
      "[('agravo', 8), ('tribunal', 8), ('suspensão', 6), ('incidente', 6), ('2', 5), ('resolução', 5), ('demandas', 5), ('repetitivas', 5), ('decisão', 5), ('regimental', 4), ('argumentos', 4), ('nega', 4), ('provimento', 4), ('direito', 4), ('público', 4), ('art', 4), ('recurso', 4), ('3', 4), ('processo', 4), ('agr', 4)]\n",
      "TPA\n",
      "[('1ªt', 14), ('agravo', 14), ('–', 13), ('p', 13), ('tp', 12), ('aco', 12), ('tribunal', 9), ('processo', 9), ('tutela', 8), ('tomada', 8), ('contas', 8), ('regimental', 8), ('tpa', 7), ('criminal', 7), ('penal', 7), ('termos', 7), ('voto', 7), ('re', 7), ('ed', 7), ('v', 7)]\n",
      "RHD\n",
      "[('embargos', 7), ('declaração', 7), ('artigo', 7), ('§', 6), ('multa', 5), ('2º', 5), ('cpc2015', 5), ('1026', 4), ('tribunal', 3), ('protelatório', 3), ('are', 3), ('agred', 3), ('rel', 3), ('min', 3), ('dje', 3), ('turma', 3), ('recurso', 2), ('omissão', 2), ('contradição', 2), ('obscuridade', 2)]\n",
      "RMI\n",
      "[('embargos', 6), ('declaração', 6), ('rediscussão', 3), ('–', 3), ('2ªt', 3), ('ausência', 2), ('omissão', 2), ('obscuridade', 2), ('contradição', 2), ('matéria', 2), ('turma', 2), ('agred', 2), ('rmi', 1), ('7222', 1), ('agredementa', 1), ('agravo', 1), ('regimental', 1), ('recurso', 1), ('ordinário', 1), ('mandado', 1)]\n"
     ]
    }
   ],
   "source": [
    "import nltk\n",
    "#nltk.download('punkt')\n",
    "import string\n",
    "from collections import defaultdict\n",
    "from nltk.corpus import stopwords\n",
    "\n",
    "    \n",
    "stop_words = set(stopwords.words('portuguese'))\n",
    "stop_words.add('turma')\n",
    "stop_words.add('art')\n",
    "stop_words.add('agr')\n",
    "#stop_words.add('2ªt')\n",
    "stop_words.add('-')\n",
    "#stop_words.add('1ªt-')\n",
    "stop_words.add('agravo')\n",
    "print (stop_words)\n",
    "\n",
    "def clean_text(text):\n",
    "    text = text.translate(str.maketrans('', '', string.punctuation))\n",
    "    text = text.lower()\n",
    "    return text\n",
    "                 \n",
    "def get_tokens(text):\n",
    "    tokens = nltk.word_tokenize(text, 'portuguese')\n",
    "    tokens = [t for t in tokens if not t in stop_words]\n",
    "    return tokens\n",
    "\n",
    "tokens = defaultdict(list)\n",
    "\n",
    "for doc in ds:\n",
    "    doc_label = doc[0]\n",
    "    doc_text = clean_text(doc[1])\n",
    "    \n",
    "    doc_tokens = get_tokens(doc_text)\n",
    "    \n",
    "    tokens[doc_label].extend(doc_tokens)\n",
    "\n",
    "for category_label, category_tokens in tokens.items():\n",
    "    print (category_label)\n",
    "    fd = nltk.FreqDist(category_tokens)\n",
    "    print(fd.most_common(20))"
   ]
  },
  {
   "cell_type": "code",
   "execution_count": 17,
   "id": "41365049-fab1-4172-b702-c2366de9b604",
   "metadata": {},
   "outputs": [
    {
     "name": "stderr",
     "output_type": "stream",
     "text": [
      "C:\\Users\\User\\anaconda3\\lib\\site-packages\\sklearn\\metrics\\_classification.py:1318: UndefinedMetricWarning: Precision is ill-defined and being set to 0.0 in labels with no predicted samples. Use `zero_division` parameter to control this behavior.\n",
      "  _warn_prf(average, modifier, msg_start, len(result))\n"
     ]
    },
    {
     "name": "stdout",
     "output_type": "stream",
     "text": [
      "NAIVE \tTRAIN\t\t0.827724\t0.830270\t0.822494\n",
      "\n",
      "NAIVE \tTEST\t\t0.764417\t0.766581\t0.753120\n",
      "\n"
     ]
    },
    {
     "name": "stderr",
     "output_type": "stream",
     "text": [
      "C:\\Users\\User\\anaconda3\\lib\\site-packages\\sklearn\\metrics\\_classification.py:1318: UndefinedMetricWarning: Precision is ill-defined and being set to 0.0 in labels with no predicted samples. Use `zero_division` parameter to control this behavior.\n",
      "  _warn_prf(average, modifier, msg_start, len(result))\n"
     ]
    }
   ],
   "source": [
    "import random\n",
    "from sklearn.feature_extraction.text import TfidfVectorizer\n",
    "from sklearn.feature_extraction.text import CountVectorizer\n",
    "from sklearn.naive_bayes import MultinomialNB\n",
    "from sklearn import metrics\n",
    "import pickle\n",
    "\n",
    "\n",
    "def get_splits (docs):\n",
    "    random.shuffle(docs)\n",
    "    \n",
    "    X_train = []\n",
    "    y_train = []\n",
    "    \n",
    "    X_test = []\n",
    "    y_test = []\n",
    "    \n",
    "    pivot = int(.8 * len(docs))\n",
    "    \n",
    "    for i in range(0, pivot):\n",
    "        X_train.append(docs[i][1])\n",
    "        y_train.append(docs[i][0])\n",
    "        \n",
    "    for i in range(pivot, len(docs)):\n",
    "        X_test.append(docs[i][1])\n",
    "        y_test.append(docs[i][0])\n",
    "        \n",
    "    return X_train, X_test, y_train, y_test\n",
    "\n",
    "def evaluate_class (title, classifier, vectorizer, X_test, y_test):\n",
    "    X_test_tfidf = vectorizer.transform(X_test)\n",
    "    y_pred = classifier.predict(X_test_tfidf)\n",
    "    \n",
    "    precision = metrics.precision_score(y_test, y_pred, average='weighted')\n",
    "    recall = metrics.recall_score(y_test, y_pred, average='weighted')\n",
    "    f1 = metrics.f1_score(y_test, y_pred, average='weighted')\n",
    "    \n",
    "    print(\"%s\\t%f\\t%f\\t%f\\n\" % (title, precision, recall, f1))\n",
    "\n",
    "X_train, X_test, y_train, y_test = get_splits(ds)\n",
    "vectorizer = CountVectorizer(stop_words=stop_words,ngram_range=(1,3), min_df=3, analyzer='word')\n",
    "\n",
    "dtm = vectorizer.fit_transform(X_train)\n",
    "\n",
    "nbc = MultinomialNB().fit(dtm, y_train)\n",
    "\n",
    "evaluate_class(\"NAIVE \\tTRAIN\\t\", nbc, vectorizer, X_train, y_train)\n",
    "evaluate_class(\"NAIVE \\tTEST\\t\", nbc, vectorizer, X_test, y_test)"
   ]
  },
  {
   "cell_type": "code",
   "execution_count": null,
   "id": "06febf38-4a44-46fb-9a57-421f9a741ea5",
   "metadata": {},
   "outputs": [],
   "source": []
  }
 ],
 "metadata": {
  "kernelspec": {
   "display_name": "Python 3 (ipykernel)",
   "language": "python",
   "name": "python3"
  },
  "language_info": {
   "codemirror_mode": {
    "name": "ipython",
    "version": 3
   },
   "file_extension": ".py",
   "mimetype": "text/x-python",
   "name": "python",
   "nbconvert_exporter": "python",
   "pygments_lexer": "ipython3",
   "version": "3.9.12"
  },
  "vscode": {
   "interpreter": {
    "hash": "f08154012ddadd8e950e6e9e035c7a7b32c136e7647e9b7c77e02eb723a8bedb"
   }
  }
 },
 "nbformat": 4,
 "nbformat_minor": 5
}
