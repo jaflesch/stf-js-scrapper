{
 "cells": [
  {
   "cell_type": "markdown",
   "id": "1ab80d76-3ea5-4d68-9ab2-5aca4faf0384",
   "metadata": {
    "tags": []
   },
   "source": [
    "# Support Vector Machine Legal Document Classifier"
   ]
  },
  {
   "cell_type": "markdown",
   "id": "cb569d46-0cc8-4ced-a9e6-c58dcbf626b2",
   "metadata": {
    "tags": []
   },
   "source": [
    "## Import common libraries"
   ]
  },
  {
   "cell_type": "code",
   "execution_count": 1,
   "id": "abc82a98-1e63-4ae0-801f-0d5ada46ae1c",
   "metadata": {},
   "outputs": [
    {
     "name": "stdout",
     "output_type": "stream",
     "text": [
      "Libraries loaded\n"
     ]
    }
   ],
   "source": [
    "import numpy as np\n",
    "import os, sys\n",
    "import pandas as pd\n",
    "import glob\n",
    "from pymongo import MongoClient\n",
    "\n",
    "print('Libraries loaded')"
   ]
  },
  {
   "cell_type": "markdown",
   "id": "eb2b6db8-2a9d-4bef-b9f8-e137e4e7cdd0",
   "metadata": {
    "tags": []
   },
   "source": [
    "## Start database connection"
   ]
  },
  {
   "cell_type": "code",
   "execution_count": 2,
   "id": "624bec01-1f66-45fd-bc2a-12fc09e74c06",
   "metadata": {},
   "outputs": [
    {
     "name": "stdout",
     "output_type": "stream",
     "text": [
      "Database successfully connected\n"
     ]
    }
   ],
   "source": [
    "conn = MongoClient()\n",
    "db = conn.lexit\n",
    "collection = db.judgements\n",
    "\n",
    "print ('Database successfully connected')"
   ]
  },
  {
   "cell_type": "markdown",
   "id": "317a6ddb-61bc-4309-9798-41cbd4235ba4",
   "metadata": {
    "tags": []
   },
   "source": [
    "## Define feature suite factory procedures"
   ]
  },
  {
   "cell_type": "code",
   "execution_count": 3,
   "id": "8dc0bda7-8ffc-410d-82c0-e9e95020c3ac",
   "metadata": {},
   "outputs": [],
   "source": [
    "def get_features_suite_01(judgement):\n",
    "    return judgement['ementa'].strip().replace(\"\\n\", \"\")\n",
    "\n",
    "def get_features_suite_02(judgement):\n",
    "    return (\n",
    "        judgement['paginaInternaTitulo'].strip() + \n",
    "        judgement['ementa'].strip() + \n",
    "        judgement['decisao'].strip() + \n",
    "        judgement['tese'].strip() + \n",
    "        judgement['observacao'].strip() + \n",
    "        judgement['doutrina'].strip()\n",
    "    ).replace(\"\\n\", \"\")\n",
    "\n",
    "def get_features_suite_03(judgement):\n",
    "    target_folder = os.path.join(os.getcwd(), '..', '..', 'txt')\n",
    "    file_path = os.path.join(target_folder, str(judgement['documentId']) + '.txt')\n",
    "    if os.path.exists(file_path):\n",
    "        f = open(file_path, 'r', encoding='utf8')\n",
    "        return (f.read()).strip()\n",
    "    return ''\n"
   ]
  },
  {
   "cell_type": "markdown",
   "id": "aeaa8cdc-0d69-4cac-abb1-88f4b8b79cc4",
   "metadata": {
    "tags": []
   },
   "source": [
    "## Dataset construction for feature suites"
   ]
  },
  {
   "cell_type": "code",
   "execution_count": 4,
   "id": "6ad8ded3-bf0e-40d3-aec1-22dc8a0fe068",
   "metadata": {},
   "outputs": [
    {
     "name": "stdout",
     "output_type": "stream",
     "text": [
      "Total documents: 73798\n",
      "\n",
      "- Feature suite [01] 10856860\n",
      "--- COUNT words: 10856860\n",
      "--- AVG words/document: 147.12\n",
      "\n",
      "- Feature suite [02]\n",
      "--- COUNT words: 16997445\n",
      "--- AVG words/document: 230.32\n",
      "\n",
      "- Feature suite [03]\n",
      "--- COUNT words: 575235270\n",
      "--- AVG words/document: 7794.73\n"
     ]
    }
   ],
   "source": [
    "ds_suite_01 = []\n",
    "ds_suite_02 = []\n",
    "ds_suite_03 = []\n",
    "i = 0\n",
    "total_suite_01 = 0\n",
    "total_suite_02 = 0\n",
    "total_suite_03 = 0\n",
    "\n",
    "for row in collection.find():\n",
    "    curr_row_suite_01 = get_features_suite_01(row)\n",
    "    curr_row_suite_02 = get_features_suite_02(row)\n",
    "    curr_row_suite_03 = get_features_suite_03(row)\n",
    "    \n",
    "    ds_suite_01.append([row['categoria'], get_features_suite_01(row)])  \n",
    "    ds_suite_02.append([row['categoria'], get_features_suite_02(row)])  \n",
    "    ds_suite_03.append([row['categoria'], get_features_suite_03(row)])  \n",
    "    \n",
    "    total_suite_01 += len(curr_row_suite_01.split(' '))\n",
    "    total_suite_02 += len(curr_row_suite_02.split(' '))\n",
    "    total_suite_03 += len(str(curr_row_suite_03).split(' '))\n",
    "    i = i + 1\n",
    "\n",
    "print ('Total documents:', i)\n",
    "\n",
    "print ('\\n- Feature suite [01]', total_suite_01)\n",
    "print ('--- COUNT words:', total_suite_01)\n",
    "print ('--- AVG words/document:', round(total_suite_01 / i, 2))\n",
    "\n",
    "print ('\\n- Feature suite [02]')\n",
    "print ('--- COUNT words:', total_suite_02)\n",
    "print ('--- AVG words/document:', round(total_suite_02 / i, 2))\n",
    "\n",
    "print ('\\n- Feature suite [03]')\n",
    "print ('--- COUNT words:', total_suite_03)\n",
    "print ('--- AVG words/document:', round(total_suite_03 / i, 2))"
   ]
  },
  {
   "cell_type": "markdown",
   "id": "2f2d8975-0b55-4a39-bf9f-0a7efd4b27ce",
   "metadata": {},
   "source": [
    "## Data manipulation"
   ]
  },
  {
   "cell_type": "markdown",
   "id": "f14d2d3f-e3a1-49ff-a21f-5f303d1cb6cc",
   "metadata": {
    "tags": []
   },
   "source": [
    "### Imports"
   ]
  },
  {
   "cell_type": "code",
   "execution_count": 5,
   "id": "2cc2256b-8005-4d3e-a4a2-5ebe465ff8e2",
   "metadata": {},
   "outputs": [
    {
     "name": "stdout",
     "output_type": "stream",
     "text": [
      "Data manipulation libraries loaded\n"
     ]
    }
   ],
   "source": [
    "import nltk\n",
    "import string\n",
    "from collections import defaultdict\n",
    "from nltk.corpus import stopwords\n",
    "\n",
    "print ('Data manipulation libraries loaded')"
   ]
  },
  {
   "cell_type": "markdown",
   "id": "50a9e835-11f6-4fb4-8f42-ec4be279b13d",
   "metadata": {
    "tags": []
   },
   "source": [
    "### Stopwords"
   ]
  },
  {
   "cell_type": "code",
   "execution_count": 6,
   "id": "5db9fc3e-1cf0-47c3-b159-13011279298e",
   "metadata": {},
   "outputs": [
    {
     "name": "stdout",
     "output_type": "stream",
     "text": [
      "Total pt-BR stopwords: 207\n",
      "Total pt-BR stopwords appending common legal area words: 214\n",
      "Total pt-BR stopwords appending common legal area words and document categories: 253\n"
     ]
    }
   ],
   "source": [
    "stop_words01 = set(stopwords.words('portuguese'))\n",
    "print ('Total pt-BR stopwords:', len(stop_words01))\n",
    "\n",
    "stop_words02 = set(stop_words01)\n",
    "stop_words02.add('turma')\n",
    "stop_words02.add('art')\n",
    "stop_words02.add('agr')\n",
    "stop_words02.add('2ªt')\n",
    "stop_words02.add('-')\n",
    "stop_words02.add('1ªt')\n",
    "stop_words02.add('agravo')\n",
    "print ('Total pt-BR stopwords appending common legal area words:', len(stop_words02))\n",
    "\n",
    "# document category abbrev\n",
    "stop_words03 = set(stop_words02)\n",
    "for row in collection.find({}, {\"_id\": 0, \"categoria\": 1}):\n",
    "   stop_words03.add(row['categoria'].lower())\n",
    "\n",
    "print ('Total pt-BR stopwords appending common legal area words and document categories:', len(stop_words03))"
   ]
  },
  {
   "cell_type": "markdown",
   "id": "181a8133-b379-49c8-a22d-4fb012e5d2c7",
   "metadata": {
    "tags": []
   },
   "source": [
    "### Text preprocessing"
   ]
  },
  {
   "cell_type": "code",
   "execution_count": 7,
   "id": "bdb0cd2e-c6ed-46ce-9fe5-25ad90eac1d4",
   "metadata": {
    "tags": []
   },
   "outputs": [],
   "source": [
    "def clean_text(text):\n",
    "    text = text.translate(str.maketrans('', '', string.punctuation))\n",
    "    text = text.lower()\n",
    "    return text\n",
    "                 \n",
    "def get_tokens(text, stopwords):\n",
    "    tokens = nltk.word_tokenize(text, 'portuguese')\n",
    "    tokens = [t for t in tokens if not t in stopwords]\n",
    "    return tokens\n",
    "\n",
    "def get_dataset_most_common_words(dataset, stopwords, word_limit=5):    \n",
    "    tokens = defaultdict(list)\n",
    "\n",
    "    for doc in dataset:\n",
    "        doc_label = doc[0]\n",
    "        doc_tokens = get_tokens(clean_text(doc[1]), stopwords)    \n",
    "        tokens[doc_label].extend(doc_tokens)\n",
    "\n",
    "    for category_label, category_tokens in tokens.items():\n",
    "        fd = nltk.FreqDist(category_tokens)\n",
    "        print(category_label)\n",
    "        print(fd.most_common(word_limit), '\\n')\n",
    "        \n",
    "#get_dataset_most_common_words(ds_suite_01, stop_words01, 1)"
   ]
  },
  {
   "cell_type": "markdown",
   "id": "41013b5d-7f4e-456b-b9a7-d050a5e97fdc",
   "metadata": {},
   "source": [
    "### Training and Evaluation"
   ]
  },
  {
   "cell_type": "markdown",
   "id": "8bf2d7cb-61e7-41dc-a2f9-b37021e1bd3f",
   "metadata": {
    "tags": []
   },
   "source": [
    "#### Import common libraries"
   ]
  },
  {
   "cell_type": "code",
   "execution_count": 8,
   "id": "7fc975d9-f8da-49b1-8f59-c253f12a018a",
   "metadata": {},
   "outputs": [
    {
     "name": "stdout",
     "output_type": "stream",
     "text": [
      "Training libraries loaded\n"
     ]
    }
   ],
   "source": [
    "import random\n",
    "from sklearn.feature_extraction.text import TfidfVectorizer\n",
    "from sklearn.feature_extraction.text import CountVectorizer\n",
    "from sklearn.linear_model import SGDClassifier\n",
    "from sklearn import metrics\n",
    "import pickle\n",
    "import time\n",
    "from tabulate import tabulate\n",
    "\n",
    "print ('Training libraries loaded')"
   ]
  },
  {
   "cell_type": "markdown",
   "id": "9ca7fd35-1e81-43f3-92e7-d44f06fa2fb6",
   "metadata": {
    "tags": []
   },
   "source": [
    "#### Define common training procedures"
   ]
  },
  {
   "cell_type": "code",
   "execution_count": 9,
   "id": "64f4d0a6-a69f-45bf-8bcb-fdb44f4cacbd",
   "metadata": {},
   "outputs": [],
   "source": [
    "def get_splits (docs):\n",
    "    random.shuffle(docs)\n",
    "    \n",
    "    X_train = []\n",
    "    y_train = []\n",
    "    \n",
    "    X_test = []\n",
    "    y_test = []\n",
    "    \n",
    "    pivot = int(.8 * len(docs))\n",
    "    \n",
    "    for i in range(0, pivot):\n",
    "        X_train.append(docs[i][1])\n",
    "        y_train.append(docs[i][0])\n",
    "        \n",
    "    for i in range(pivot, len(docs)):\n",
    "        X_test.append(docs[i][1])\n",
    "        y_test.append(docs[i][0])\n",
    "        \n",
    "    return X_train, X_test, y_train, y_test\n",
    "\n",
    "def evaluate_class (classifier, vectorizer, X_test, y_test):\n",
    "    start_time = time.time()\n",
    "    \n",
    "    X_test_tfidf = vectorizer.transform(X_test)\n",
    "    y_pred = classifier.predict(X_test_tfidf)\n",
    "    \n",
    "    end_time = time.time() - start_time\n",
    "    \n",
    "    precision = metrics.precision_score(y_test, y_pred, average='weighted', zero_division=1)\n",
    "    recall = metrics.recall_score(y_test, y_pred, average='weighted', zero_division=1)\n",
    "    f1 = metrics.f1_score(y_test, y_pred, average='weighted', zero_division=1)\n",
    "    \n",
    "    return (precision, recall, f1, round(end_time, 4))\n",
    "    \n",
    "def train_and_evaluate_model(dataset, stopwords, features=10000):\n",
    "    X_train, X_test, y_train, y_test = get_splits(dataset)\n",
    "    vectorizer = CountVectorizer(\n",
    "        stop_words=stopwords,\n",
    "        ngram_range=(1,3), \n",
    "        min_df=3, \n",
    "        analyzer='word',\n",
    "        max_features=features\n",
    "    )\n",
    "\n",
    "    dtm = vectorizer.fit_transform(X_train)\n",
    "    start_time = time.time()\n",
    "    \n",
    "    svmc = SGDClassifier(\n",
    "        loss='hinge', \n",
    "        penalty='l2',\n",
    "        alpha=1e-3, \n",
    "        random_state=42,\n",
    "        max_iter=5, \n",
    "        tol=None\n",
    "    ).fit(dtm, y_train)\n",
    "    \n",
    "    train_class = evaluate_class(svmc, vectorizer, X_train, y_train)\n",
    "    test_class = evaluate_class(svmc, vectorizer, X_test, y_test)\n",
    "    \n",
    "    end_time = time.time() - start_time\n",
    "    \n",
    "    print(\n",
    "        tabulate([\n",
    "            ['Train', train_class[0], train_class[1], train_class[2], train_class[3]], \n",
    "            ['Test', test_class[0], test_class[1], test_class[2], test_class[3]] \n",
    "        ], headers=['', 'Precision', 'Recall', 'F1-score', 'time(s)'])\n",
    "    )\n",
    "    print('\\nTotal execution time (s): ', round(end_time, 4))"
   ]
  },
  {
   "cell_type": "markdown",
   "id": "d4249403-efd5-47ed-8d9c-8d3bab581e24",
   "metadata": {},
   "source": [
    "#### Training"
   ]
  },
  {
   "cell_type": "code",
   "execution_count": 22,
   "id": "f1781697-11e3-4593-bdea-5d32e360dd04",
   "metadata": {},
   "outputs": [],
   "source": [
    "# vectorizer max features (number of most common words)\n",
    "vec_feat_01 = 100\n",
    "vec_feat_02 = 500\n",
    "vec_feat_03 = 1000\n",
    "vec_feat_04 = 5000\n",
    "vec_feat_05 = 10000\n",
    "\n",
    "# stopwords\n",
    "sw = stop_words01"
   ]
  },
  {
   "cell_type": "markdown",
   "id": "57680303-8048-4912-9cb3-14166feecd1f",
   "metadata": {},
   "source": [
    "##### [1.1] Training configuration suite (ds_suite_01, vec_feat_01)"
   ]
  },
  {
   "cell_type": "code",
   "execution_count": 11,
   "id": "41365049-fab1-4172-b702-c2366de9b604",
   "metadata": {},
   "outputs": [
    {
     "name": "stdout",
     "output_type": "stream",
     "text": [
      "         Precision    Recall    F1-score    time(s)\n",
      "-----  -----------  --------  ----------  ---------\n",
      "Train     0.772523   0.78441    0.768716     15.558\n",
      "Test      0.770555   0.78374    0.76699       3.83\n",
      "\n",
      "Total execution time (s):  22.408\n"
     ]
    }
   ],
   "source": [
    "train_and_evaluate_model(ds_suite_01, sw, vec_feat_01)"
   ]
  },
  {
   "cell_type": "markdown",
   "id": "7c108b5b-52fb-4b18-8d9d-90919876b24f",
   "metadata": {},
   "source": [
    "##### [1.2] Training configuration suite (ds_suite_01, vec_feat_02)"
   ]
  },
  {
   "cell_type": "code",
   "execution_count": 25,
   "id": "5c1da86e-b491-4010-aaf0-57f12a6b5c95",
   "metadata": {},
   "outputs": [
    {
     "name": "stdout",
     "output_type": "stream",
     "text": [
      "         Precision    Recall    F1-score    time(s)\n",
      "-----  -----------  --------  ----------  ---------\n",
      "Train     0.88245   0.884549    0.881035    14.8654\n",
      "Test      0.870351  0.873035    0.868024     3.702\n",
      "\n",
      "Total execution time (s):  22.1864\n"
     ]
    }
   ],
   "source": [
    "train_and_evaluate_model(ds_suite_01, sw, vec_feat_02)"
   ]
  },
  {
   "cell_type": "markdown",
   "id": "6ec2abce-aa28-4f7a-bc45-4e5721b54059",
   "metadata": {},
   "source": [
    "##### [1.3] Training configuration suite (ds_suite_01, vec_feat_03)"
   ]
  },
  {
   "cell_type": "code",
   "execution_count": 12,
   "id": "1ecfe504-7a88-40b1-9164-4087c973e33c",
   "metadata": {},
   "outputs": [
    {
     "name": "stdout",
     "output_type": "stream",
     "text": [
      "         Precision    Recall    F1-score    time(s)\n",
      "-----  -----------  --------  ----------  ---------\n",
      "Train     0.903036  0.902842    0.900298     15.412\n",
      "Test      0.889318  0.890379    0.887039      3.592\n",
      "\n",
      "Total execution time (s):  22.914\n"
     ]
    }
   ],
   "source": [
    "train_and_evaluate_model(ds_suite_01, sw, vec_feat_03)"
   ]
  },
  {
   "cell_type": "markdown",
   "id": "7b81103d-2178-403b-988f-d0a071f31572",
   "metadata": {},
   "source": [
    "##### [1.4] Training configuration suite (ds_suite_01, vec_feat_04)"
   ]
  },
  {
   "cell_type": "code",
   "execution_count": 26,
   "id": "65e1c33f-4288-4637-86ae-ecac0ae4d399",
   "metadata": {},
   "outputs": [
    {
     "name": "stdout",
     "output_type": "stream",
     "text": [
      "         Precision    Recall    F1-score    time(s)\n",
      "-----  -----------  --------  ----------  ---------\n",
      "Train     0.928768  0.928165    0.927185     15.582\n",
      "Test      0.910169  0.909282    0.907563      3.712\n",
      "\n",
      "Total execution time (s):  24.353\n"
     ]
    }
   ],
   "source": [
    "train_and_evaluate_model(ds_suite_01, sw, vec_feat_04)"
   ]
  },
  {
   "cell_type": "markdown",
   "id": "3c1e94aa-eda8-49f0-a96a-43180b9db261",
   "metadata": {},
   "source": [
    "##### [1.5] Training configuration suite (ds_suite_01, vec_feat_05)"
   ]
  },
  {
   "cell_type": "code",
   "execution_count": 13,
   "id": "70761f60-8194-4be5-b98e-d44269df3e8c",
   "metadata": {},
   "outputs": [
    {
     "name": "stdout",
     "output_type": "stream",
     "text": [
      "         Precision    Recall    F1-score    time(s)\n",
      "-----  -----------  --------  ----------  ---------\n",
      "Train     0.93529   0.934957    0.933924     18.078\n",
      "Test      0.916427  0.916463    0.914696      4.232\n",
      "\n",
      "Total execution time (s):  28.6908\n"
     ]
    }
   ],
   "source": [
    "train_and_evaluate_model(ds_suite_01, sw, vec_feat_05)"
   ]
  },
  {
   "cell_type": "markdown",
   "id": "64f5087d-346a-4a8d-b242-c77359d269ba",
   "metadata": {},
   "source": [
    "---"
   ]
  },
  {
   "cell_type": "markdown",
   "id": "2b970726-22e5-4e5a-9185-268e2db164d4",
   "metadata": {
    "tags": []
   },
   "source": [
    "##### [2.1] Training configuration suite (ds_suite_02, vec_feat_01)"
   ]
  },
  {
   "cell_type": "markdown",
   "id": "5c068449-f5f7-4ee3-b897-e55273e7a7d2",
   "metadata": {
    "tags": []
   },
   "source": [
    "##### [2.1] Training configuration suite (ds_suite_02, vec_feat_01)"
   ]
  },
  {
   "cell_type": "code",
   "execution_count": 14,
   "id": "9a7673f2-95f2-484e-b22a-ce1ff2959ac4",
   "metadata": {},
   "outputs": [
    {
     "name": "stdout",
     "output_type": "stream",
     "text": [
      "         Precision    Recall    F1-score    time(s)\n",
      "-----  -----------  --------  ----------  ---------\n",
      "Train     0.792793  0.795877    0.778974     26.775\n",
      "Test      0.78551   0.790583    0.773016      6.92\n",
      "\n",
      "Total execution time (s):  37.063\n"
     ]
    }
   ],
   "source": [
    "train_and_evaluate_model(ds_suite_02, sw, vec_feat_01)"
   ]
  },
  {
   "cell_type": "markdown",
   "id": "ad5acae9-c4b0-4f29-8b5f-c24562c39d9c",
   "metadata": {
    "tags": []
   },
   "source": [
    "##### [2.2] Training configuration suite (ds_suite_02, vec_feat_02)"
   ]
  },
  {
   "cell_type": "code",
   "execution_count": 27,
   "id": "116f7471-8031-45fe-a750-cf50bdcf9379",
   "metadata": {},
   "outputs": [
    {
     "name": "stdout",
     "output_type": "stream",
     "text": [
      "         Precision    Recall    F1-score    time(s)\n",
      "-----  -----------  --------  ----------  ---------\n",
      "Train     0.919702  0.916376    0.914162    28.266\n",
      "Test      0.907094  0.904607    0.901902     6.9344\n",
      "\n",
      "Total execution time (s):  39.6624\n"
     ]
    }
   ],
   "source": [
    "train_and_evaluate_model(ds_suite_02, sw, vec_feat_02)"
   ]
  },
  {
   "cell_type": "markdown",
   "id": "2b210048-fa96-46fd-bd35-f43ec92d94ee",
   "metadata": {
    "tags": []
   },
   "source": [
    "##### [2.3] Training configuration suite (ds_suite_02, vec_feat_03)"
   ]
  },
  {
   "cell_type": "code",
   "execution_count": 15,
   "id": "3ec94448-ba80-4c38-86c9-a0a291edc122",
   "metadata": {},
   "outputs": [
    {
     "name": "stdout",
     "output_type": "stream",
     "text": [
      "         Precision    Recall    F1-score    time(s)\n",
      "-----  -----------  --------  ----------  ---------\n",
      "Train     0.947612  0.94739     0.946487     28.519\n",
      "Test      0.933056  0.933198    0.93121       7.394\n",
      "\n",
      "Total execution time (s):  40.963\n"
     ]
    }
   ],
   "source": [
    "train_and_evaluate_model(ds_suite_02, sw, vec_feat_03)"
   ]
  },
  {
   "cell_type": "markdown",
   "id": "48d8ce12-de0f-40f3-a1df-cdb68ef31de9",
   "metadata": {
    "tags": []
   },
   "source": [
    "##### [2.4] Training configuration suite (ds_suite_02, vec_feat_04)"
   ]
  },
  {
   "cell_type": "code",
   "execution_count": 28,
   "id": "939650ca-7cea-4ae5-b910-927dbda7f066",
   "metadata": {},
   "outputs": [
    {
     "name": "stdout",
     "output_type": "stream",
     "text": [
      "         Precision    Recall    F1-score    time(s)\n",
      "-----  -----------  --------  ----------  ---------\n",
      "Train     0.971176  0.970748    0.970604     28.203\n",
      "Test      0.951138  0.950068    0.949759      7.046\n",
      "\n",
      "Total execution time (s):  41.636\n"
     ]
    }
   ],
   "source": [
    "train_and_evaluate_model(ds_suite_02, sw, vec_feat_04)"
   ]
  },
  {
   "cell_type": "markdown",
   "id": "d99114ab-22a0-41bf-996c-66023c22b21b",
   "metadata": {
    "tags": []
   },
   "source": [
    "##### [2.5] Training configuration suite (ds_suite_02, vec_feat_05)"
   ]
  },
  {
   "cell_type": "code",
   "execution_count": 17,
   "id": "882b7222-22f0-4329-ad0a-600335ecba9c",
   "metadata": {},
   "outputs": [
    {
     "name": "stdout",
     "output_type": "stream",
     "text": [
      "         Precision    Recall    F1-score    time(s)\n",
      "-----  -----------  --------  ----------  ---------\n",
      "Train     0.978263  0.978031    0.978075     28.988\n",
      "Test      0.955089  0.953794    0.953837      7.166\n",
      "\n",
      "Total execution time (s):  43.486\n"
     ]
    }
   ],
   "source": [
    "train_and_evaluate_model(ds_suite_02, sw, vec_feat_05)"
   ]
  },
  {
   "cell_type": "markdown",
   "id": "3b120389-70e5-4b16-ae82-b3b239ed3500",
   "metadata": {},
   "source": [
    "---"
   ]
  },
  {
   "cell_type": "markdown",
   "id": "ad6744e4-0a00-4b54-a66e-b6932f052fe8",
   "metadata": {
    "tags": []
   },
   "source": [
    "##### [3.1] Training configuration suite (ds_suite_03, vec_feat_01)"
   ]
  },
  {
   "cell_type": "code",
   "execution_count": 18,
   "id": "b34994b2-3b3c-46d1-bae2-dc7625389a84",
   "metadata": {},
   "outputs": [
    {
     "name": "stdout",
     "output_type": "stream",
     "text": [
      "         Precision    Recall    F1-score    time(s)\n",
      "-----  -----------  --------  ----------  ---------\n",
      "Train     0.747142  0.683052    0.691614    849.178\n",
      "Test      0.753499  0.683062    0.693644    213.129\n",
      "\n",
      "Total execution time (s):  1067.4357\n"
     ]
    }
   ],
   "source": [
    "train_and_evaluate_model(ds_suite_03, sw, vec_feat_01)"
   ]
  },
  {
   "cell_type": "markdown",
   "id": "69400293-e892-436f-b4ec-8c9b24eb627e",
   "metadata": {
    "tags": []
   },
   "source": [
    "##### [3.2] Training configuration suite (ds_suite_03, vec_feat_02)"
   ]
  },
  {
   "cell_type": "code",
   "execution_count": 24,
   "id": "0b1c6636-cc4e-4ffe-8c41-22a7fa8f2901",
   "metadata": {},
   "outputs": [
    {
     "name": "stdout",
     "output_type": "stream",
     "text": [
      "         Precision    Recall    F1-score    time(s)\n",
      "-----  -----------  --------  ----------  ---------\n",
      "Train     0.953231  0.928775    0.934997    811.546\n",
      "Test      0.9498    0.925813    0.93162     200.011\n",
      "\n",
      "Total execution time (s):  1019.7264\n"
     ]
    }
   ],
   "source": [
    "train_and_evaluate_model(ds_suite_03, sw, vec_feat_02)"
   ]
  },
  {
   "cell_type": "markdown",
   "id": "5984293c-b564-41ca-891e-469ad792620d",
   "metadata": {
    "tags": []
   },
   "source": [
    "##### [3.3] Training configuration suite (ds_suite_03, vec_feat_03)"
   ]
  },
  {
   "cell_type": "code",
   "execution_count": 19,
   "id": "aa55661c-2d81-4890-abf1-ce1c000fb92e",
   "metadata": {},
   "outputs": [
    {
     "name": "stdout",
     "output_type": "stream",
     "text": [
      "         Precision    Recall    F1-score    time(s)\n",
      "-----  -----------  --------  ----------  ---------\n",
      "Train     0.95666   0.932772    0.934982    848.277\n",
      "Test      0.954094  0.929743    0.932845    204.449\n",
      "\n",
      "Total execution time (s):  1063.832\n"
     ]
    }
   ],
   "source": [
    "train_and_evaluate_model(ds_suite_03, sw, vec_feat_03)"
   ]
  },
  {
   "cell_type": "markdown",
   "id": "160d3c19-38ef-42a2-ae3f-c7455b1c003e",
   "metadata": {
    "tags": []
   },
   "source": [
    "##### [3.4] Training configuration suite (ds_suite_03, vec_feat_04)"
   ]
  },
  {
   "cell_type": "code",
   "execution_count": 21,
   "id": "de7888dd-dabd-4afd-8f98-6a0f9504a2a1",
   "metadata": {},
   "outputs": [
    {
     "name": "stdout",
     "output_type": "stream",
     "text": [
      "         Precision    Recall    F1-score    time(s)\n",
      "-----  -----------  --------  ----------  ---------\n",
      "Train     0.966293  0.957553    0.958272    838.054\n",
      "Test      0.961686  0.949322    0.951049    205.632\n",
      "\n",
      "Total execution time (s):  1062.3347\n"
     ]
    }
   ],
   "source": [
    "train_and_evaluate_model(ds_suite_03, sw, vec_feat_04)"
   ]
  },
  {
   "cell_type": "markdown",
   "id": "2ef7c542-fed2-474a-bb18-27b76caad222",
   "metadata": {
    "tags": []
   },
   "source": [
    "##### [3.5] Training configuration suite (ds_suite_03, vec_feat_05)"
   ]
  },
  {
   "cell_type": "code",
   "execution_count": 23,
   "id": "d3fc9941-0a7f-45e6-92dd-1c68e1e3d05f",
   "metadata": {},
   "outputs": [
    {
     "name": "stdout",
     "output_type": "stream",
     "text": [
      "         Precision    Recall    F1-score    time(s)\n",
      "-----  -----------  --------  ----------  ---------\n",
      "Train     0.977178  0.961279    0.96611     847.398\n",
      "Test      0.973879  0.955149    0.960274    204.935\n",
      "\n",
      "Total execution time (s):  1074.2136\n"
     ]
    }
   ],
   "source": [
    "train_and_evaluate_model(ds_suite_03, sw, vec_feat_05)"
   ]
  }
 ],
 "metadata": {
  "kernelspec": {
   "display_name": "Python 3 (ipykernel)",
   "language": "python",
   "name": "python3"
  },
  "language_info": {
   "codemirror_mode": {
    "name": "ipython",
    "version": 3
   },
   "file_extension": ".py",
   "mimetype": "text/x-python",
   "name": "python",
   "nbconvert_exporter": "python",
   "pygments_lexer": "ipython3",
   "version": "3.9.12"
  },
  "vscode": {
   "interpreter": {
    "hash": "f08154012ddadd8e950e6e9e035c7a7b32c136e7647e9b7c77e02eb723a8bedb"
   }
  }
 },
 "nbformat": 4,
 "nbformat_minor": 5
}
