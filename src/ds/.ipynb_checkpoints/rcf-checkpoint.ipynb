{
 "cells": [
  {
   "cell_type": "markdown",
   "id": "1ab80d76-3ea5-4d68-9ab2-5aca4faf0384",
   "metadata": {
    "tags": []
   },
   "source": [
    "# Random Forest Legal Document Classifier"
   ]
  },
  {
   "cell_type": "markdown",
   "id": "cb569d46-0cc8-4ced-a9e6-c58dcbf626b2",
   "metadata": {
    "tags": []
   },
   "source": [
    "## Import common libraries"
   ]
  },
  {
   "cell_type": "code",
   "execution_count": null,
   "id": "abc82a98-1e63-4ae0-801f-0d5ada46ae1c",
   "metadata": {},
   "outputs": [],
   "source": [
    "import numpy as np\n",
    "import os, sys\n",
    "import pandas as pd\n",
    "import glob\n",
    "from pymongo import MongoClient\n",
    "\n",
    "print('Libraries loaded')"
   ]
  },
  {
   "cell_type": "markdown",
   "id": "eb2b6db8-2a9d-4bef-b9f8-e137e4e7cdd0",
   "metadata": {
    "tags": []
   },
   "source": [
    "## Start database connection"
   ]
  },
  {
   "cell_type": "code",
   "execution_count": null,
   "id": "624bec01-1f66-45fd-bc2a-12fc09e74c06",
   "metadata": {},
   "outputs": [],
   "source": [
    "conn = MongoClient()\n",
    "db = conn.lexit\n",
    "collection = db.judgements\n",
    "\n",
    "print ('Database successfully connected')"
   ]
  },
  {
   "cell_type": "markdown",
   "id": "317a6ddb-61bc-4309-9798-41cbd4235ba4",
   "metadata": {
    "tags": []
   },
   "source": [
    "## Define feature suite factory procedures"
   ]
  },
  {
   "cell_type": "code",
   "execution_count": null,
   "id": "8dc0bda7-8ffc-410d-82c0-e9e95020c3ac",
   "metadata": {},
   "outputs": [],
   "source": [
    "def get_features_suite_01(judgement):\n",
    "    return judgement['ementa'].strip().replace(\"\\n\", \"\")\n",
    "\n",
    "def get_features_suite_02(judgement):\n",
    "    return (\n",
    "        judgement['paginaInternaTitulo'].strip() + \n",
    "        judgement['ementa'].strip() + \n",
    "        judgement['decisao'].strip() + \n",
    "        judgement['tese'].strip() + \n",
    "        judgement['observacao'].strip() + \n",
    "        judgement['doutrina'].strip()\n",
    "    ).replace(\"\\n\", \"\")\n",
    "\n",
    "def get_features_suite_03(judgement):\n",
    "    target_folder = os.path.join(os.getcwd(), '..', '..', 'txt')\n",
    "    file_path = os.path.join(target_folder, str(judgement['documentId']) + '.txt')\n",
    "    if os.path.exists(file_path):\n",
    "        f = open(file_path, 'r', encoding='utf8')\n",
    "        return (f.read()).strip()\n",
    "    return ''\n"
   ]
  },
  {
   "cell_type": "markdown",
   "id": "aeaa8cdc-0d69-4cac-abb1-88f4b8b79cc4",
   "metadata": {
    "tags": []
   },
   "source": [
    "## Dataset construction for feature suites"
   ]
  },
  {
   "cell_type": "code",
   "execution_count": null,
   "id": "6ad8ded3-bf0e-40d3-aec1-22dc8a0fe068",
   "metadata": {},
   "outputs": [],
   "source": [
    "ds_suite_01 = []\n",
    "ds_suite_02 = []\n",
    "ds_suite_03 = []\n",
    "i = 0\n",
    "total_suite_01 = 0\n",
    "total_suite_02 = 0\n",
    "total_suite_03 = 0\n",
    "\n",
    "for row in collection.find():\n",
    "    curr_row_suite_01 = get_features_suite_01(row)\n",
    "    curr_row_suite_02 = get_features_suite_02(row)\n",
    "    curr_row_suite_03 = get_features_suite_03(row)\n",
    "    \n",
    "    ds_suite_01.append([row['categoria'], get_features_suite_01(row)])  \n",
    "    ds_suite_02.append([row['categoria'], get_features_suite_02(row)])  \n",
    "    ds_suite_03.append([row['categoria'], get_features_suite_03(row)])  \n",
    "    \n",
    "    total_suite_01 += len(curr_row_suite_01.split(' '))\n",
    "    total_suite_02 += len(curr_row_suite_02.split(' '))\n",
    "    total_suite_03 += len(str(curr_row_suite_03).split(' '))\n",
    "    i = i + 1\n",
    "\n",
    "print ('Total documents:', i)\n",
    "\n",
    "print ('\\n- Feature suite [01]', total_suite_01)\n",
    "print ('--- COUNT words:', total_suite_01)\n",
    "print ('--- AVG words/document:', round(total_suite_01 / i, 2))\n",
    "\n",
    "print ('\\n- Feature suite [02]')\n",
    "print ('--- COUNT words:', total_suite_02)\n",
    "print ('--- AVG words/document:', round(total_suite_02 / i, 2))\n",
    "\n",
    "print ('\\n- Feature suite [03]')\n",
    "print ('--- COUNT words:', total_suite_03)\n",
    "print ('--- AVG words/document:', round(total_suite_03 / i, 2))"
   ]
  },
  {
   "cell_type": "markdown",
   "id": "2f2d8975-0b55-4a39-bf9f-0a7efd4b27ce",
   "metadata": {},
   "source": [
    "## Data manipulation"
   ]
  },
  {
   "cell_type": "markdown",
   "id": "f14d2d3f-e3a1-49ff-a21f-5f303d1cb6cc",
   "metadata": {
    "tags": []
   },
   "source": [
    "### Imports"
   ]
  },
  {
   "cell_type": "code",
   "execution_count": null,
   "id": "2cc2256b-8005-4d3e-a4a2-5ebe465ff8e2",
   "metadata": {},
   "outputs": [],
   "source": [
    "import nltk\n",
    "import string\n",
    "from collections import defaultdict\n",
    "from nltk.corpus import stopwords\n",
    "\n",
    "print ('Data manipulation libraries loaded')"
   ]
  },
  {
   "cell_type": "markdown",
   "id": "50a9e835-11f6-4fb4-8f42-ec4be279b13d",
   "metadata": {
    "tags": []
   },
   "source": [
    "### Stopwords"
   ]
  },
  {
   "cell_type": "code",
   "execution_count": null,
   "id": "5db9fc3e-1cf0-47c3-b159-13011279298e",
   "metadata": {},
   "outputs": [],
   "source": [
    "stop_words01 = set(stopwords.words('portuguese'))\n",
    "print ('Total pt-BR stopwords:', len(stop_words01))\n",
    "\n",
    "stop_words02 = set(stop_words01)\n",
    "stop_words02.add('turma')\n",
    "stop_words02.add('art')\n",
    "stop_words02.add('agr')\n",
    "stop_words02.add('2ªt')\n",
    "stop_words02.add('-')\n",
    "stop_words02.add('1ªt')\n",
    "stop_words02.add('agravo')\n",
    "print ('Total pt-BR stopwords appending common legal area words:', len(stop_words02))\n",
    "\n",
    "# document category abbrev\n",
    "stop_words03 = set(stop_words02)\n",
    "for row in collection.find({}, {\"_id\": 0, \"categoria\": 1}):\n",
    "   stop_words03.add(row['categoria'].lower())\n",
    "\n",
    "print ('Total pt-BR stopwords appending common legal area words and document categories:', len(stop_words03))"
   ]
  },
  {
   "cell_type": "markdown",
   "id": "181a8133-b379-49c8-a22d-4fb012e5d2c7",
   "metadata": {
    "tags": []
   },
   "source": [
    "### Text preprocessing"
   ]
  },
  {
   "cell_type": "code",
   "execution_count": null,
   "id": "bdb0cd2e-c6ed-46ce-9fe5-25ad90eac1d4",
   "metadata": {
    "tags": []
   },
   "outputs": [],
   "source": [
    "def clean_text(text):\n",
    "    text = text.translate(str.maketrans('', '', string.punctuation))\n",
    "    text = text.lower()\n",
    "    return text\n",
    "                 \n",
    "def get_tokens(text, stopwords):\n",
    "    tokens = nltk.word_tokenize(text, 'portuguese')\n",
    "    tokens = [t for t in tokens if not t in stopwords]\n",
    "    return tokens\n",
    "\n",
    "def get_dataset_most_common_words(dataset, stopwords, word_limit=5):    \n",
    "    tokens = defaultdict(list)\n",
    "\n",
    "    for doc in dataset:\n",
    "        doc_label = doc[0]\n",
    "        doc_tokens = get_tokens(clean_text(doc[1]), stopwords)    \n",
    "        tokens[doc_label].extend(doc_tokens)\n",
    "\n",
    "    for category_label, category_tokens in tokens.items():\n",
    "        fd = nltk.FreqDist(category_tokens)\n",
    "        print(category_label)\n",
    "        print(fd.most_common(word_limit), '\\n')\n",
    "        \n",
    "#get_dataset_most_common_words(ds_suite_01, stop_words01, 1)"
   ]
  },
  {
   "cell_type": "markdown",
   "id": "41013b5d-7f4e-456b-b9a7-d050a5e97fdc",
   "metadata": {},
   "source": [
    "### Training and Evaluation"
   ]
  },
  {
   "cell_type": "markdown",
   "id": "8bf2d7cb-61e7-41dc-a2f9-b37021e1bd3f",
   "metadata": {
    "tags": []
   },
   "source": [
    "#### Import common libraries"
   ]
  },
  {
   "cell_type": "code",
   "execution_count": null,
   "id": "7fc975d9-f8da-49b1-8f59-c253f12a018a",
   "metadata": {},
   "outputs": [],
   "source": [
    "import random\n",
    "from sklearn.feature_extraction.text import TfidfVectorizer\n",
    "from sklearn.feature_extraction.text import CountVectorizer\n",
    "from sklearn.ensemble import RandomForestClassifier\n",
    "from sklearn import metrics\n",
    "import pickle\n",
    "import time\n",
    "from tabulate import tabulate\n",
    "\n",
    "print ('Training libraries loaded')"
   ]
  },
  {
   "cell_type": "markdown",
   "id": "9ca7fd35-1e81-43f3-92e7-d44f06fa2fb6",
   "metadata": {
    "tags": []
   },
   "source": [
    "#### Define common training procedures"
   ]
  },
  {
   "cell_type": "code",
   "execution_count": null,
   "id": "64f4d0a6-a69f-45bf-8bcb-fdb44f4cacbd",
   "metadata": {},
   "outputs": [],
   "source": [
    "def get_splits (docs):\n",
    "    random.shuffle(docs)\n",
    "    \n",
    "    X_train = []\n",
    "    y_train = []\n",
    "    \n",
    "    X_test = []\n",
    "    y_test = []\n",
    "    \n",
    "    pivot = int(.8 * len(docs))\n",
    "    \n",
    "    for i in range(0, pivot):\n",
    "        X_train.append(docs[i][1])\n",
    "        y_train.append(docs[i][0])\n",
    "        \n",
    "    for i in range(pivot, len(docs)):\n",
    "        X_test.append(docs[i][1])\n",
    "        y_test.append(docs[i][0])\n",
    "        \n",
    "    return X_train, X_test, y_train, y_test\n",
    "\n",
    "def evaluate_class (classifier, vectorizer, X_test, y_test):\n",
    "    start_time = time.time()\n",
    "    \n",
    "    X_test_tfidf = vectorizer.transform(X_test)\n",
    "    y_pred = classifier.predict(X_test_tfidf)\n",
    "    \n",
    "    end_time = time.time() - start_time\n",
    "    \n",
    "    precision = metrics.precision_score(y_test, y_pred, average='weighted', zero_division=1)\n",
    "    recall = metrics.recall_score(y_test, y_pred, average='weighted', zero_division=1)\n",
    "    f1 = metrics.f1_score(y_test, y_pred, average='weighted', zero_division=1)\n",
    "    \n",
    "    return (precision, recall, f1, round(end_time, 4))\n",
    "    \n",
    "def train_and_evaluate_model(dataset, stopwords, features=10000):\n",
    "    X_train, X_test, y_train, y_test = get_splits(dataset)\n",
    "    \n",
    "    vectorizer = CountVectorizer(\n",
    "        stop_words=stopwords,\n",
    "        ngram_range=(1,3), \n",
    "        min_df=3, \n",
    "        analyzer='word', \n",
    "        max_features=features\n",
    "    )\n",
    "    \n",
    "    dtm = vectorizer.fit_transform(X_train)\n",
    "    start_time = time.time()\n",
    "    \n",
    "    rfc = RandomForestClassifier(\n",
    "        n_estimators=50, \n",
    "        random_state=42, \n",
    "        n_jobs=4\n",
    "        #max_depth=6\n",
    "    ).fit(dtm, y_train)    \n",
    "    \n",
    "    train_class = evaluate_class(rfc, vectorizer, X_train, y_train)\n",
    "    test_class = evaluate_class(rfc, vectorizer, X_test, y_test)\n",
    "    \n",
    "    end_time = time.time() - start_time\n",
    "    \n",
    "    print(\n",
    "        tabulate([\n",
    "            ['Train', train_class[0], train_class[1], train_class[2], train_class[3]], \n",
    "            ['Test', test_class[0], test_class[1], test_class[2], test_class[3]] \n",
    "        ], headers=['', 'Precision', 'Recall', 'F1-score', 'time(s)'])\n",
    "    )\n",
    "    print('\\nTotal execution time (s): ', round(end_time, 4))"
   ]
  },
  {
   "cell_type": "markdown",
   "id": "d4249403-efd5-47ed-8d9c-8d3bab581e24",
   "metadata": {},
   "source": [
    "#### Training"
   ]
  },
  {
   "cell_type": "markdown",
   "id": "57680303-8048-4912-9cb3-14166feecd1f",
   "metadata": {},
   "source": [
    "##### [1.1] Training configuration suite (ds_suite_01, stop_words01)"
   ]
  },
  {
   "cell_type": "code",
   "execution_count": null,
   "id": "41365049-fab1-4172-b702-c2366de9b604",
   "metadata": {},
   "outputs": [],
   "source": [
    "train_and_evaluate_model(ds_suite_01, stop_words01)"
   ]
  },
  {
   "cell_type": "markdown",
   "id": "6ec2abce-aa28-4f7a-bc45-4e5721b54059",
   "metadata": {},
   "source": [
    "##### [1.2] Training configuration suite (ds_suite_01, stop_words02)"
   ]
  },
  {
   "cell_type": "code",
   "execution_count": null,
   "id": "1ecfe504-7a88-40b1-9164-4087c973e33c",
   "metadata": {},
   "outputs": [],
   "source": [
    "train_and_evaluate_model(ds_suite_01, stop_words02)"
   ]
  },
  {
   "cell_type": "markdown",
   "id": "3c1e94aa-eda8-49f0-a96a-43180b9db261",
   "metadata": {},
   "source": [
    "##### [1.3] Training configuration suite (ds_suite_01, stop_words03)"
   ]
  },
  {
   "cell_type": "code",
   "execution_count": null,
   "id": "70761f60-8194-4be5-b98e-d44269df3e8c",
   "metadata": {},
   "outputs": [],
   "source": [
    "train_and_evaluate_model(ds_suite_01, stop_words03)"
   ]
  },
  {
   "cell_type": "markdown",
   "id": "2b970726-22e5-4e5a-9185-268e2db164d4",
   "metadata": {},
   "source": [
    "##### [2.1] Training configuration suite (ds_suite_02, stop_words01)"
   ]
  },
  {
   "cell_type": "code",
   "execution_count": null,
   "id": "9a7673f2-95f2-484e-b22a-ce1ff2959ac4",
   "metadata": {},
   "outputs": [],
   "source": [
    "train_and_evaluate_model(ds_suite_02, stop_words01)"
   ]
  },
  {
   "cell_type": "markdown",
   "id": "2b210048-fa96-46fd-bd35-f43ec92d94ee",
   "metadata": {
    "tags": []
   },
   "source": [
    "##### [2.2] Training configuration suite (ds_suite_02, stop_words02)"
   ]
  },
  {
   "cell_type": "code",
   "execution_count": null,
   "id": "3ec94448-ba80-4c38-86c9-a0a291edc122",
   "metadata": {},
   "outputs": [],
   "source": [
    "train_and_evaluate_model(ds_suite_02, stop_words02)"
   ]
  },
  {
   "cell_type": "markdown",
   "id": "48d8ce12-de0f-40f3-a1df-cdb68ef31de9",
   "metadata": {
    "tags": []
   },
   "source": [
    "##### [2.3] Training configuration suite (ds_suite_02, stop_words03)"
   ]
  },
  {
   "cell_type": "code",
   "execution_count": null,
   "id": "882b7222-22f0-4329-ad0a-600335ecba9c",
   "metadata": {},
   "outputs": [],
   "source": [
    "train_and_evaluate_model(ds_suite_02, stop_words03)"
   ]
  },
  {
   "cell_type": "markdown",
   "id": "ad6744e4-0a00-4b54-a66e-b6932f052fe8",
   "metadata": {
    "tags": []
   },
   "source": [
    "##### [3.1] Training configuration suite (ds_suite_03, stop_words01)"
   ]
  },
  {
   "cell_type": "code",
   "execution_count": null,
   "id": "b34994b2-3b3c-46d1-bae2-dc7625389a84",
   "metadata": {},
   "outputs": [],
   "source": [
    "train_and_evaluate_model(ds_suite_03, stop_words01)"
   ]
  },
  {
   "cell_type": "markdown",
   "id": "ef6f6527-9030-4e0c-9a5f-9ff159f3709a",
   "metadata": {
    "tags": []
   },
   "source": [
    "##### [3.2] Training configuration suite (ds_suite_03, stop_words02)"
   ]
  },
  {
   "cell_type": "code",
   "execution_count": null,
   "id": "2ab550ed-419e-47be-919d-f42e9843b895",
   "metadata": {},
   "outputs": [],
   "source": [
    "train_and_evaluate_model(ds_suite_03, stop_words02)"
   ]
  },
  {
   "cell_type": "markdown",
   "id": "8b3c148e-6b82-4b72-ad91-89c8c322ccfe",
   "metadata": {
    "tags": []
   },
   "source": [
    "##### [3.3] Training configuration suite (ds_suite_03, stop_words03)"
   ]
  },
  {
   "cell_type": "code",
   "execution_count": null,
   "id": "3ad40eee-6a10-45b2-8480-f4be9bb8442f",
   "metadata": {},
   "outputs": [],
   "source": [
    "train_and_evaluate_model(ds_suite_03, stop_words03)"
   ]
  }
 ],
 "metadata": {
  "kernelspec": {
   "display_name": "Python 3 (ipykernel)",
   "language": "python",
   "name": "python3"
  },
  "language_info": {
   "codemirror_mode": {
    "name": "ipython",
    "version": 3
   },
   "file_extension": ".py",
   "mimetype": "text/x-python",
   "name": "python",
   "nbconvert_exporter": "python",
   "pygments_lexer": "ipython3",
   "version": "3.9.12"
  },
  "vscode": {
   "interpreter": {
    "hash": "f08154012ddadd8e950e6e9e035c7a7b32c136e7647e9b7c77e02eb723a8bedb"
   }
  }
 },
 "nbformat": 4,
 "nbformat_minor": 5
}
