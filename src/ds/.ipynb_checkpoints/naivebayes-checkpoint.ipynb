{
 "cells": [
  {
   "cell_type": "markdown",
   "id": "1ab80d76-3ea5-4d68-9ab2-5aca4faf0384",
   "metadata": {
    "tags": []
   },
   "source": [
    "# Naive Bayes Legal Document Classifier"
   ]
  },
  {
   "cell_type": "markdown",
   "id": "cb569d46-0cc8-4ced-a9e6-c58dcbf626b2",
   "metadata": {
    "jp-MarkdownHeadingCollapsed": true,
    "tags": []
   },
   "source": [
    "## Import common libraries"
   ]
  },
  {
   "cell_type": "code",
   "execution_count": 1,
   "id": "abc82a98-1e63-4ae0-801f-0d5ada46ae1c",
   "metadata": {},
   "outputs": [
    {
     "name": "stdout",
     "output_type": "stream",
     "text": [
      "Libraries loaded\n"
     ]
    }
   ],
   "source": [
    "import numpy as np\n",
    "import os, sys\n",
    "import pandas as pd\n",
    "import glob\n",
    "from pymongo import MongoClient\n",
    "\n",
    "print('Libraries loaded')"
   ]
  },
  {
   "cell_type": "markdown",
   "id": "eb2b6db8-2a9d-4bef-b9f8-e137e4e7cdd0",
   "metadata": {
    "jp-MarkdownHeadingCollapsed": true,
    "tags": []
   },
   "source": [
    "## Start database connection"
   ]
  },
  {
   "cell_type": "code",
   "execution_count": 2,
   "id": "624bec01-1f66-45fd-bc2a-12fc09e74c06",
   "metadata": {},
   "outputs": [
    {
     "name": "stdout",
     "output_type": "stream",
     "text": [
      "Database successfully connected\n"
     ]
    }
   ],
   "source": [
    "conn = MongoClient()\n",
    "db = conn.lexit\n",
    "collection = db.judgements\n",
    "print ('Database successfully connected')"
   ]
  },
  {
   "cell_type": "markdown",
   "id": "317a6ddb-61bc-4309-9798-41cbd4235ba4",
   "metadata": {
    "jp-MarkdownHeadingCollapsed": true,
    "tags": []
   },
   "source": [
    "## Define feature suite factory procedures"
   ]
  },
  {
   "cell_type": "code",
   "execution_count": 43,
   "id": "8dc0bda7-8ffc-410d-82c0-e9e95020c3ac",
   "metadata": {},
   "outputs": [],
   "source": [
    "### Create category folders \n",
    "#folders = create_label_folders(collection)\n",
    "#print ('PASTAS OK')\n",
    "\n",
    "### Store record according category\n",
    "#export_record_to_category()\n",
    "#print ('Arquivos OK')\n",
    "\n",
    "def get_features_suite_01(judgement):\n",
    "    return judgement['ementa'].strip().replace(\"\\n\", \"\")\n",
    "\n",
    "def get_features_suite_02(judgement):\n",
    "    return (\n",
    "        judgement['paginaInternaTitulo'].strip() + \n",
    "        judgement['ementa'].strip() + \n",
    "        judgement['decisao'].strip() + \n",
    "        judgement['tese'].strip() + \n",
    "        judgement['observacao'].strip() + \n",
    "        judgement['doutrina'].strip()\n",
    "    ).replace(\"\\n\", \"\")\n",
    "\n",
    "def get_features_suite_03(judgement):\n",
    "    target_folder = os.path.join(os.getcwd(), '..', '..', 'txt')\n",
    "    file_path = os.path.join(target_folder, str(judgement['documentId']) + '.txt')\n",
    "    if os.path.exists(file_path):\n",
    "        f = open(file_path, 'r', encoding='utf8')\n",
    "        return (f.read()).strip()\n",
    "    return ''\n"
   ]
  },
  {
   "cell_type": "markdown",
   "id": "aeaa8cdc-0d69-4cac-abb1-88f4b8b79cc4",
   "metadata": {
    "jp-MarkdownHeadingCollapsed": true,
    "tags": []
   },
   "source": [
    "## Dataset construction for feature suites"
   ]
  },
  {
   "cell_type": "code",
   "execution_count": 47,
   "id": "b4ffa71f-11e3-4a42-9b40-2b967dfa3f43",
   "metadata": {},
   "outputs": [],
   "source": [
    "#current_folder = os.getcwd()\n",
    "#target_folder = os.path.join(current_folder, '../../db/*.merge.json')\n",
    "#files = glob.glob(target_folder)\n",
    "#print ('Found', len(files), ' files:')\n",
    "#for i in range(0, len(files)):\n",
    "#    print((os.path.basename(files[i])))\n"
   ]
  },
  {
   "cell_type": "code",
   "execution_count": 44,
   "id": "6ad8ded3-bf0e-40d3-aec1-22dc8a0fe068",
   "metadata": {},
   "outputs": [
    {
     "name": "stdout",
     "output_type": "stream",
     "text": [
      "Total judgements:\n",
      "- Feature suite [01] word count: 10856860\n",
      "--- COUNT words: 10856860\n",
      "--- AVG words/document: 147.12\n",
      "\n",
      "- Feature suite [02] word count:\n",
      "--- COUNT words: 16997445\n",
      "--- AVG words/document: 230.32\n",
      "\n",
      "- Feature suite [03]\n",
      "--- COUNT words: 575235270\n",
      "--- AVG words/document: 7794.73\n"
     ]
    }
   ],
   "source": [
    "ds_suite_01 = []\n",
    "ds_suite_02 = []\n",
    "ds_suite_03 = []\n",
    "i = 0\n",
    "total_suite_01 = 0\n",
    "total_suite_02 = 0\n",
    "total_suite_03 = 0\n",
    "\n",
    "for row in collection.find():\n",
    "    curr_row_suite_01 = get_features_suite_01(row)\n",
    "    curr_row_suite_02 = get_features_suite_02(row)\n",
    "    curr_row_suite_03 = get_features_suite_03(row)\n",
    "    ds_suite_01.append([row['categoria'], get_features_suite_01(row)])  \n",
    "    ds_suite_02.append([row['categoria'], get_features_suite_02(row)])  \n",
    "    ds_suite_03.append([row['categoria'], get_features_suite_03(row)])  \n",
    "    total_suite_01 += len(curr_row_suite_01.split(' '))\n",
    "    total_suite_02 += len(curr_row_suite_02.split(' '))\n",
    "    total_suite_03 += len(str(curr_row_suite_03).split(' '))\n",
    "    i = i + 1\n",
    "\n",
    "print ('Total judgements:')\n",
    "print ('- Feature suite [01] word count:', total_suite_01)\n",
    "print ('--- COUNT words:', total_suite_01)\n",
    "print ('--- AVG words/document:', round(total_suite_01 / i, 2))\n",
    "\n",
    "print ('\\n- Feature suite [02] word count:')\n",
    "print ('--- COUNT words:', total_suite_02)\n",
    "print ('--- AVG words/document:', round(total_suite_02 / i, 2))\n",
    "\n",
    "print ('\\n- Feature suite [03]')\n",
    "print ('--- COUNT words:', total_suite_03)\n",
    "print ('--- AVG words/document:', round(total_suite_03 / i, 2))"
   ]
  },
  {
   "cell_type": "markdown",
   "id": "2f2d8975-0b55-4a39-bf9f-0a7efd4b27ce",
   "metadata": {},
   "source": [
    "## Data manipulation"
   ]
  },
  {
   "cell_type": "markdown",
   "id": "f14d2d3f-e3a1-49ff-a21f-5f303d1cb6cc",
   "metadata": {
    "jp-MarkdownHeadingCollapsed": true,
    "tags": []
   },
   "source": [
    "### Imports"
   ]
  },
  {
   "cell_type": "code",
   "execution_count": 50,
   "id": "2cc2256b-8005-4d3e-a4a2-5ebe465ff8e2",
   "metadata": {},
   "outputs": [],
   "source": [
    "import nltk\n",
    "#nltk.download('punkt')\n",
    "import string\n",
    "from collections import defaultdict\n",
    "from nltk.corpus import stopwords"
   ]
  },
  {
   "cell_type": "markdown",
   "id": "50a9e835-11f6-4fb4-8f42-ec4be279b13d",
   "metadata": {
    "jp-MarkdownHeadingCollapsed": true,
    "tags": []
   },
   "source": [
    "### Stopwords"
   ]
  },
  {
   "cell_type": "code",
   "execution_count": 112,
   "id": "5db9fc3e-1cf0-47c3-b159-13011279298e",
   "metadata": {},
   "outputs": [
    {
     "name": "stdout",
     "output_type": "stream",
     "text": [
      "Total pt-BR stopwords: 207\n",
      "Total pt-BR stopwords appending common legal area words: 214\n",
      "Total pt-BR stopwords appending common legal area words and document categories: 253\n"
     ]
    }
   ],
   "source": [
    "stop_words01 = set(stopwords.words('portuguese'))\n",
    "print ('Total pt-BR stopwords:', len(stop_words01))\n",
    "\n",
    "stop_words02 = set(stop_words01)\n",
    "stop_words02.add('turma')\n",
    "stop_words02.add('art')\n",
    "stop_words02.add('agr')\n",
    "stop_words02.add('2ªt')\n",
    "stop_words02.add('-')\n",
    "stop_words02.add('1ªt')\n",
    "stop_words02.add('agravo')\n",
    "print ('Total pt-BR stopwords appending common legal area words:', len(stop_words02))\n",
    "\n",
    "# document category abbrev\n",
    "stop_words03 = set(stop_words02)\n",
    "for row in collection.find({}, {\"_id\": 0, \"categoria\": 1}):\n",
    "   stop_words03.add(row['categoria'].lower())\n",
    "\n",
    "print ('Total pt-BR stopwords appending common legal area words and document categories:', len(stop_words03))"
   ]
  },
  {
   "cell_type": "markdown",
   "id": "181a8133-b379-49c8-a22d-4fb012e5d2c7",
   "metadata": {
    "tags": []
   },
   "source": [
    "### Text preprocessing"
   ]
  },
  {
   "cell_type": "code",
   "execution_count": 79,
   "id": "bdb0cd2e-c6ed-46ce-9fe5-25ad90eac1d4",
   "metadata": {
    "tags": []
   },
   "outputs": [],
   "source": [
    "def clean_text(text):\n",
    "    text = text.translate(str.maketrans('', '', string.punctuation))\n",
    "    text = text.lower()\n",
    "    return text\n",
    "                 \n",
    "def get_tokens(text, stopwords):\n",
    "    tokens = nltk.word_tokenize(text, 'portuguese')\n",
    "    tokens = [t for t in tokens if not t in stopwords]\n",
    "    return tokens\n",
    "\n",
    "def get_dataset_most_common_words(dataset, stopwords, word_limit=5):    \n",
    "    tokens = defaultdict(list)\n",
    "\n",
    "    for doc in dataset:\n",
    "        doc_label = doc[0]\n",
    "        doc_tokens = get_tokens(clean_text(doc[1]), stopwords)    \n",
    "        tokens[doc_label].extend(doc_tokens)\n",
    "\n",
    "    for category_label, category_tokens in tokens.items():\n",
    "        fd = nltk.FreqDist(category_tokens)\n",
    "        print(category_label)\n",
    "        print(fd.most_common(word_limit), '\\n')\n",
    "        \n",
    "#get_dataset_most_common_words(ds_suite_01, stop_words01, 1)"
   ]
  },
  {
   "cell_type": "markdown",
   "id": "41013b5d-7f4e-456b-b9a7-d050a5e97fdc",
   "metadata": {},
   "source": [
    "### Training and Evaluation"
   ]
  },
  {
   "cell_type": "markdown",
   "id": "8bf2d7cb-61e7-41dc-a2f9-b37021e1bd3f",
   "metadata": {
    "jp-MarkdownHeadingCollapsed": true,
    "tags": []
   },
   "source": [
    "#### Import common libraries"
   ]
  },
  {
   "cell_type": "code",
   "execution_count": 103,
   "id": "7fc975d9-f8da-49b1-8f59-c253f12a018a",
   "metadata": {},
   "outputs": [],
   "source": [
    "import random\n",
    "from sklearn.feature_extraction.text import TfidfVectorizer\n",
    "from sklearn.feature_extraction.text import CountVectorizer\n",
    "from sklearn.naive_bayes import MultinomialNB\n",
    "from sklearn import metrics\n",
    "import pickle\n",
    "import time\n",
    "from tabulate import tabulate"
   ]
  },
  {
   "cell_type": "markdown",
   "id": "9ca7fd35-1e81-43f3-92e7-d44f06fa2fb6",
   "metadata": {
    "jp-MarkdownHeadingCollapsed": true,
    "tags": []
   },
   "source": [
    "#### Define common training procedures"
   ]
  },
  {
   "cell_type": "code",
   "execution_count": 104,
   "id": "64f4d0a6-a69f-45bf-8bcb-fdb44f4cacbd",
   "metadata": {},
   "outputs": [],
   "source": [
    "def get_splits (docs):\n",
    "    random.shuffle(docs)\n",
    "    \n",
    "    X_train = []\n",
    "    y_train = []\n",
    "    \n",
    "    X_test = []\n",
    "    y_test = []\n",
    "    \n",
    "    pivot = int(.8 * len(docs))\n",
    "    \n",
    "    for i in range(0, pivot):\n",
    "        X_train.append(docs[i][1])\n",
    "        y_train.append(docs[i][0])\n",
    "        \n",
    "    for i in range(pivot, len(docs)):\n",
    "        X_test.append(docs[i][1])\n",
    "        y_test.append(docs[i][0])\n",
    "        \n",
    "    return X_train, X_test, y_train, y_test\n",
    "\n",
    "def evaluate_class (classifier, vectorizer, X_test, y_test):\n",
    "    start_time = time.time()\n",
    "    X_test_tfidf = vectorizer.transform(X_test)\n",
    "    y_pred = classifier.predict(X_test_tfidf)\n",
    "    end_time = time.time() - start_time\n",
    "    \n",
    "    precision = metrics.precision_score(y_test, y_pred, average='weighted', zero_division=1)\n",
    "    recall = metrics.recall_score(y_test, y_pred, average='weighted', zero_division=1)\n",
    "    f1 = metrics.f1_score(y_test, y_pred, average='weighted', zero_division=1)\n",
    "    \n",
    "    #print(\"%s\\t%f\\t%f\\t%f\\n\" % (title, precision, recall, f1, round(end_time, 4)))\n",
    "    return (precision, recall, f1, round(end_time, 4))\n",
    "    \n",
    "def train_and_evaluate_model(dataset, stopwords):\n",
    "    X_train, X_test, y_train, y_test = get_splits(dataset)\n",
    "    vectorizer = CountVectorizer(stop_words=stopwords,ngram_range=(1,3), min_df=3, analyzer='word')\n",
    "\n",
    "    dtm = vectorizer.fit_transform(X_train)\n",
    "    nbc = MultinomialNB().fit(dtm, y_train)\n",
    "    train_class = evaluate_class(nbc, vectorizer, X_train, y_train)\n",
    "    test_class = evaluate_class(nbc, vectorizer, X_test, y_test)\n",
    "    \n",
    "    print(\n",
    "        tabulate([\n",
    "            ['Train', train_class[0], train_class[1], train_class[2], train_class[3]], \n",
    "            ['Test', test_class[0], test_class[1], test_class[2], test_class[3]] \n",
    "        ], headers=['', 'Precision', 'Recall', 'F1-score', 'time(s)'])\n",
    "    )"
   ]
  },
  {
   "cell_type": "markdown",
   "id": "d4249403-efd5-47ed-8d9c-8d3bab581e24",
   "metadata": {},
   "source": [
    "#### Training"
   ]
  },
  {
   "cell_type": "markdown",
   "id": "57680303-8048-4912-9cb3-14166feecd1f",
   "metadata": {},
   "source": [
    "##### [1.1] Training configuration suite (ds_suite_01, stop_words01)"
   ]
  },
  {
   "cell_type": "code",
   "execution_count": 105,
   "id": "41365049-fab1-4172-b702-c2366de9b604",
   "metadata": {},
   "outputs": [
    {
     "name": "stdout",
     "output_type": "stream",
     "text": [
      "         Precision    Recall    F1-score    time(s)\n",
      "-----  -----------  --------  ----------  ---------\n",
      "Train     0.834193  0.827789    0.825401    18.3544\n",
      "Test      0.774846  0.767886    0.76233      4.444\n"
     ]
    }
   ],
   "source": [
    "train_and_evaluate_model(ds_suite_01, stop_words01)"
   ]
  },
  {
   "cell_type": "markdown",
   "id": "6ec2abce-aa28-4f7a-bc45-4e5721b54059",
   "metadata": {},
   "source": [
    "##### [1.2] Training configuration suite (ds_suite_01, stop_words02)"
   ]
  },
  {
   "cell_type": "code",
   "execution_count": 113,
   "id": "1ecfe504-7a88-40b1-9164-4087c973e33c",
   "metadata": {},
   "outputs": [
    {
     "name": "stdout",
     "output_type": "stream",
     "text": [
      "         Precision    Recall    F1-score    time(s)\n",
      "-----  -----------  --------  ----------  ---------\n",
      "Train     0.816129  0.809157    0.807787    19.8911\n",
      "Test      0.748879  0.74248     0.738061     4.384\n"
     ]
    }
   ],
   "source": [
    "train_and_evaluate_model(ds_suite_01, stop_words02)"
   ]
  },
  {
   "cell_type": "markdown",
   "id": "3c1e94aa-eda8-49f0-a96a-43180b9db261",
   "metadata": {},
   "source": [
    "##### [1.3] Training configuration suite (ds_suite_01, stop_words03)"
   ]
  },
  {
   "cell_type": "code",
   "execution_count": 114,
   "id": "70761f60-8194-4be5-b98e-d44269df3e8c",
   "metadata": {},
   "outputs": [
    {
     "name": "stdout",
     "output_type": "stream",
     "text": [
      "         Precision    Recall    F1-score    time(s)\n",
      "-----  -----------  --------  ----------  ---------\n",
      "Train     0.812011  0.805159    0.803341    21.4483\n",
      "Test      0.757553  0.748442    0.744005     6.964\n"
     ]
    }
   ],
   "source": [
    "train_and_evaluate_model(ds_suite_01, stop_words03)"
   ]
  },
  {
   "cell_type": "markdown",
   "id": "2b970726-22e5-4e5a-9185-268e2db164d4",
   "metadata": {},
   "source": [
    "##### [2.1] Training configuration suite (ds_suite_02, stop_words01)"
   ]
  },
  {
   "cell_type": "code",
   "execution_count": 115,
   "id": "9a7673f2-95f2-484e-b22a-ce1ff2959ac4",
   "metadata": {},
   "outputs": [
    {
     "name": "stdout",
     "output_type": "stream",
     "text": [
      "         Precision    Recall    F1-score    time(s)\n",
      "-----  -----------  --------  ----------  ---------\n",
      "Train     0.824572  0.815458    0.810372    37.9002\n",
      "Test      0.763342  0.753591    0.743763     9.0522\n"
     ]
    }
   ],
   "source": [
    "train_and_evaluate_model(ds_suite_02, stop_words01)"
   ]
  },
  {
   "cell_type": "markdown",
   "id": "2b210048-fa96-46fd-bd35-f43ec92d94ee",
   "metadata": {
    "tags": []
   },
   "source": [
    "##### [2.2] Training configuration suite (ds_suite_02, stop_words02)"
   ]
  },
  {
   "cell_type": "code",
   "execution_count": 117,
   "id": "3ec94448-ba80-4c38-86c9-a0a291edc122",
   "metadata": {},
   "outputs": [
    {
     "name": "stdout",
     "output_type": "stream",
     "text": [
      "         Precision    Recall    F1-score    time(s)\n",
      "-----  -----------  --------  ----------  ---------\n",
      "Train     0.81498   0.807277    0.802747     36.03\n",
      "Test      0.754554  0.743767    0.73513       8.709\n"
     ]
    }
   ],
   "source": [
    "train_and_evaluate_model(ds_suite_02, stop_words02)"
   ]
  },
  {
   "cell_type": "markdown",
   "id": "48d8ce12-de0f-40f3-a1df-cdb68ef31de9",
   "metadata": {
    "tags": []
   },
   "source": [
    "##### [2.3] Training configuration suite (ds_suite_02, stop_words03)"
   ]
  },
  {
   "cell_type": "code",
   "execution_count": 118,
   "id": "882b7222-22f0-4329-ad0a-600335ecba9c",
   "metadata": {},
   "outputs": [
    {
     "name": "stdout",
     "output_type": "stream",
     "text": [
      "         Precision    Recall    F1-score    time(s)\n",
      "-----  -----------  --------  ----------  ---------\n",
      "Train     0.807775  0.798062    0.793123     34.072\n",
      "Test      0.747456  0.73374     0.72522       8.305\n"
     ]
    }
   ],
   "source": [
    "train_and_evaluate_model(ds_suite_02, stop_words03)"
   ]
  },
  {
   "cell_type": "markdown",
   "id": "ad6744e4-0a00-4b54-a66e-b6932f052fe8",
   "metadata": {
    "tags": []
   },
   "source": [
    "##### [3.1] Training configuration suite (ds_suite_03, stop_words01)"
   ]
  },
  {
   "cell_type": "code",
   "execution_count": 119,
   "id": "b34994b2-3b3c-46d1-bae2-dc7625389a84",
   "metadata": {},
   "outputs": [
    {
     "name": "stdout",
     "output_type": "stream",
     "text": [
      "         Precision    Recall    F1-score    time(s)\n",
      "-----  -----------  --------  ----------  ---------\n",
      "Train     0.881444  0.873505    0.866901   1117.76\n",
      "Test      0.811505  0.807927    0.795075    321.931\n"
     ]
    }
   ],
   "source": [
    "train_and_evaluate_model(ds_suite_03, stop_words01)"
   ]
  }
 ],
 "metadata": {
  "kernelspec": {
   "display_name": "Python 3 (ipykernel)",
   "language": "python",
   "name": "python3"
  },
  "language_info": {
   "codemirror_mode": {
    "name": "ipython",
    "version": 3
   },
   "file_extension": ".py",
   "mimetype": "text/x-python",
   "name": "python",
   "nbconvert_exporter": "python",
   "pygments_lexer": "ipython3",
   "version": "3.9.12"
  },
  "vscode": {
   "interpreter": {
    "hash": "f08154012ddadd8e950e6e9e035c7a7b32c136e7647e9b7c77e02eb723a8bedb"
   }
  }
 },
 "nbformat": 4,
 "nbformat_minor": 5
}
