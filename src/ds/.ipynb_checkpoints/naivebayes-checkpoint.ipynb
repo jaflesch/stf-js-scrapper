{
 "cells": [
  {
   "cell_type": "markdown",
   "id": "1ab80d76-3ea5-4d68-9ab2-5aca4faf0384",
   "metadata": {
    "tags": []
   },
   "source": [
    "# Naive Bayes Legal Document Classifier"
   ]
  },
  {
   "cell_type": "markdown",
   "id": "cb569d46-0cc8-4ced-a9e6-c58dcbf626b2",
   "metadata": {
    "jp-MarkdownHeadingCollapsed": true,
    "tags": []
   },
   "source": [
    "## Import common libraries"
   ]
  },
  {
   "cell_type": "code",
   "execution_count": 1,
   "id": "abc82a98-1e63-4ae0-801f-0d5ada46ae1c",
   "metadata": {},
   "outputs": [
    {
     "name": "stdout",
     "output_type": "stream",
     "text": [
      "Libraries loaded\n"
     ]
    }
   ],
   "source": [
    "import numpy as np\n",
    "import os, sys\n",
    "import pandas as pd\n",
    "import glob\n",
    "from pymongo import MongoClient\n",
    "\n",
    "print('Libraries loaded')"
   ]
  },
  {
   "cell_type": "markdown",
   "id": "eb2b6db8-2a9d-4bef-b9f8-e137e4e7cdd0",
   "metadata": {
    "jp-MarkdownHeadingCollapsed": true,
    "tags": []
   },
   "source": [
    "## Start database connection"
   ]
  },
  {
   "cell_type": "code",
   "execution_count": 2,
   "id": "624bec01-1f66-45fd-bc2a-12fc09e74c06",
   "metadata": {},
   "outputs": [
    {
     "name": "stdout",
     "output_type": "stream",
     "text": [
      "Database successfully connected\n"
     ]
    }
   ],
   "source": [
    "conn = MongoClient()\n",
    "db = conn.lexit\n",
    "collection = db.judgements\n",
    "print ('Database successfully connected')"
   ]
  },
  {
   "cell_type": "markdown",
   "id": "317a6ddb-61bc-4309-9798-41cbd4235ba4",
   "metadata": {
    "jp-MarkdownHeadingCollapsed": true,
    "tags": []
   },
   "source": [
    "## Define feature suite factory procedures"
   ]
  },
  {
   "cell_type": "code",
   "execution_count": 3,
   "id": "8dc0bda7-8ffc-410d-82c0-e9e95020c3ac",
   "metadata": {},
   "outputs": [],
   "source": [
    "def get_features_suite_01(judgement):\n",
    "    return judgement['ementa'].strip().replace(\"\\n\", \"\")\n",
    "\n",
    "def get_features_suite_02(judgement):\n",
    "    return (\n",
    "        judgement['paginaInternaTitulo'].strip() + \n",
    "        judgement['ementa'].strip() + \n",
    "        judgement['decisao'].strip() + \n",
    "        judgement['tese'].strip() + \n",
    "        judgement['observacao'].strip() + \n",
    "        judgement['doutrina'].strip()\n",
    "    ).replace(\"\\n\", \"\")\n",
    "\n",
    "def get_features_suite_03(judgement):\n",
    "    target_folder = os.path.join(os.getcwd(), '..', '..', 'txt')\n",
    "    file_path = os.path.join(target_folder, str(judgement['documentId']) + '.txt')\n",
    "    if os.path.exists(file_path):\n",
    "        f = open(file_path, 'r', encoding='utf8')\n",
    "        return (f.read()).strip()\n",
    "    return ''\n"
   ]
  },
  {
   "cell_type": "markdown",
   "id": "aeaa8cdc-0d69-4cac-abb1-88f4b8b79cc4",
   "metadata": {
    "jp-MarkdownHeadingCollapsed": true,
    "tags": []
   },
   "source": [
    "## Dataset construction for feature suites"
   ]
  },
  {
   "cell_type": "code",
   "execution_count": 4,
   "id": "6ad8ded3-bf0e-40d3-aec1-22dc8a0fe068",
   "metadata": {},
   "outputs": [
    {
     "name": "stdout",
     "output_type": "stream",
     "text": [
      "Total documents: 73798\n",
      "\n",
      "- Feature suite [01] 10856860\n",
      "--- COUNT words: 10856860\n",
      "--- AVG words/document: 147.12\n",
      "\n",
      "- Feature suite [02]\n",
      "--- COUNT words: 16997445\n",
      "--- AVG words/document: 230.32\n",
      "\n",
      "- Feature suite [03]\n",
      "--- COUNT words: 575235270\n",
      "--- AVG words/document: 7794.73\n"
     ]
    }
   ],
   "source": [
    "ds_suite_01 = []\n",
    "ds_suite_02 = []\n",
    "ds_suite_03 = []\n",
    "i = 0\n",
    "total_suite_01 = 0\n",
    "total_suite_02 = 0\n",
    "total_suite_03 = 0\n",
    "\n",
    "for row in collection.find():\n",
    "    curr_row_suite_01 = get_features_suite_01(row)\n",
    "    curr_row_suite_02 = get_features_suite_02(row)\n",
    "    curr_row_suite_03 = get_features_suite_03(row)\n",
    "    \n",
    "    ds_suite_01.append([row['categoria'], get_features_suite_01(row)])  \n",
    "    ds_suite_02.append([row['categoria'], get_features_suite_02(row)])  \n",
    "    ds_suite_03.append([row['categoria'], get_features_suite_03(row)])  \n",
    "    \n",
    "    total_suite_01 += len(curr_row_suite_01.split(' '))\n",
    "    total_suite_02 += len(curr_row_suite_02.split(' '))\n",
    "    total_suite_03 += len(str(curr_row_suite_03).split(' '))\n",
    "    i = i + 1\n",
    "\n",
    "print ('Total documents:', i)\n",
    "\n",
    "print ('\\n- Feature suite [01]', total_suite_01)\n",
    "print ('--- COUNT words:', total_suite_01)\n",
    "print ('--- AVG words/document:', round(total_suite_01 / i, 2))\n",
    "\n",
    "print ('\\n- Feature suite [02]')\n",
    "print ('--- COUNT words:', total_suite_02)\n",
    "print ('--- AVG words/document:', round(total_suite_02 / i, 2))\n",
    "\n",
    "print ('\\n- Feature suite [03]')\n",
    "print ('--- COUNT words:', total_suite_03)\n",
    "print ('--- AVG words/document:', round(total_suite_03 / i, 2))"
   ]
  },
  {
   "cell_type": "markdown",
   "id": "2f2d8975-0b55-4a39-bf9f-0a7efd4b27ce",
   "metadata": {
    "tags": []
   },
   "source": [
    "## Data manipulation"
   ]
  },
  {
   "cell_type": "markdown",
   "id": "f14d2d3f-e3a1-49ff-a21f-5f303d1cb6cc",
   "metadata": {
    "jp-MarkdownHeadingCollapsed": true,
    "tags": []
   },
   "source": [
    "### Imports"
   ]
  },
  {
   "cell_type": "code",
   "execution_count": 7,
   "id": "2cc2256b-8005-4d3e-a4a2-5ebe465ff8e2",
   "metadata": {},
   "outputs": [
    {
     "name": "stdout",
     "output_type": "stream",
     "text": [
      "Data manipulation libraries loaded\n"
     ]
    }
   ],
   "source": [
    "import nltk\n",
    "import string\n",
    "from collections import defaultdict\n",
    "from nltk.corpus import stopwords\n",
    "\n",
    "print ('Data manipulation libraries loaded')"
   ]
  },
  {
   "cell_type": "markdown",
   "id": "50a9e835-11f6-4fb4-8f42-ec4be279b13d",
   "metadata": {
    "jp-MarkdownHeadingCollapsed": true,
    "tags": []
   },
   "source": [
    "### Stopwords"
   ]
  },
  {
   "cell_type": "code",
   "execution_count": 8,
   "id": "5db9fc3e-1cf0-47c3-b159-13011279298e",
   "metadata": {},
   "outputs": [
    {
     "name": "stdout",
     "output_type": "stream",
     "text": [
      "Total pt-BR stopwords: 207\n",
      "Total pt-BR stopwords appending common legal area words: 214\n",
      "Total pt-BR stopwords appending common legal area words and document categories: 253\n"
     ]
    }
   ],
   "source": [
    "stop_words01 = set(stopwords.words('portuguese'))\n",
    "print ('Total pt-BR stopwords:', len(stop_words01))\n",
    "\n",
    "stop_words02 = set(stop_words01)\n",
    "stop_words02.add('turma')\n",
    "stop_words02.add('art')\n",
    "stop_words02.add('agr')\n",
    "stop_words02.add('2ªt')\n",
    "stop_words02.add('-')\n",
    "stop_words02.add('1ªt')\n",
    "stop_words02.add('agravo')\n",
    "print ('Total pt-BR stopwords appending common legal area words:', len(stop_words02))\n",
    "\n",
    "# document category abbrev\n",
    "stop_words03 = set(stop_words02)\n",
    "for row in collection.find({}, {\"_id\": 0, \"categoria\": 1}):\n",
    "   stop_words03.add(row['categoria'].lower())\n",
    "\n",
    "print ('Total pt-BR stopwords appending common legal area words and document categories:', len(stop_words03))"
   ]
  },
  {
   "cell_type": "markdown",
   "id": "181a8133-b379-49c8-a22d-4fb012e5d2c7",
   "metadata": {
    "jp-MarkdownHeadingCollapsed": true,
    "tags": []
   },
   "source": [
    "### Text preprocessing"
   ]
  },
  {
   "cell_type": "code",
   "execution_count": 9,
   "id": "bdb0cd2e-c6ed-46ce-9fe5-25ad90eac1d4",
   "metadata": {
    "tags": []
   },
   "outputs": [],
   "source": [
    "def clean_text(text):\n",
    "    text = text.translate(str.maketrans('', '', string.punctuation))\n",
    "    text = text.lower()\n",
    "    return text\n",
    "                 \n",
    "def get_tokens(text, stopwords):\n",
    "    tokens = nltk.word_tokenize(text, 'portuguese')\n",
    "    tokens = [t for t in tokens if not t in stopwords]\n",
    "    return tokens\n",
    "\n",
    "def get_dataset_most_common_words(dataset, stopwords, word_limit=5):    \n",
    "    tokens = defaultdict(list)\n",
    "\n",
    "    for doc in dataset:\n",
    "        doc_label = doc[0]\n",
    "        doc_tokens = get_tokens(clean_text(doc[1]), stopwords)    \n",
    "        tokens[doc_label].extend(doc_tokens)\n",
    "\n",
    "    for category_label, category_tokens in tokens.items():\n",
    "        fd = nltk.FreqDist(category_tokens)\n",
    "        print(category_label)\n",
    "        print(fd.most_common(word_limit), '\\n')\n",
    "        \n",
    "#get_dataset_most_common_words(ds_suite_01, stop_words01, 1)"
   ]
  },
  {
   "cell_type": "markdown",
   "id": "41013b5d-7f4e-456b-b9a7-d050a5e97fdc",
   "metadata": {
    "tags": []
   },
   "source": [
    "### Training and Evaluation"
   ]
  },
  {
   "cell_type": "markdown",
   "id": "8bf2d7cb-61e7-41dc-a2f9-b37021e1bd3f",
   "metadata": {
    "jp-MarkdownHeadingCollapsed": true,
    "tags": []
   },
   "source": [
    "#### Import common libraries"
   ]
  },
  {
   "cell_type": "code",
   "execution_count": 10,
   "id": "7fc975d9-f8da-49b1-8f59-c253f12a018a",
   "metadata": {},
   "outputs": [
    {
     "name": "stdout",
     "output_type": "stream",
     "text": [
      "Training libraries loaded\n"
     ]
    }
   ],
   "source": [
    "import random\n",
    "from sklearn.feature_extraction.text import TfidfVectorizer\n",
    "from sklearn.feature_extraction.text import CountVectorizer\n",
    "from sklearn.naive_bayes import MultinomialNB\n",
    "from sklearn import metrics\n",
    "import pickle\n",
    "import time\n",
    "from tabulate import tabulate\n",
    "\n",
    "print ('Training libraries loaded')"
   ]
  },
  {
   "cell_type": "markdown",
   "id": "9ca7fd35-1e81-43f3-92e7-d44f06fa2fb6",
   "metadata": {
    "jp-MarkdownHeadingCollapsed": true,
    "tags": []
   },
   "source": [
    "#### Define common training procedures"
   ]
  },
  {
   "cell_type": "code",
   "execution_count": 11,
   "id": "64f4d0a6-a69f-45bf-8bcb-fdb44f4cacbd",
   "metadata": {},
   "outputs": [],
   "source": [
    "def get_splits (docs):\n",
    "    random.shuffle(docs)\n",
    "    \n",
    "    X_train = []\n",
    "    y_train = []\n",
    "    \n",
    "    X_test = []\n",
    "    y_test = []\n",
    "    \n",
    "    pivot = int(.8 * len(docs))\n",
    "    \n",
    "    for i in range(0, pivot):\n",
    "        X_train.append(docs[i][1])\n",
    "        y_train.append(docs[i][0])\n",
    "        \n",
    "    for i in range(pivot, len(docs)):\n",
    "        X_test.append(docs[i][1])\n",
    "        y_test.append(docs[i][0])\n",
    "        \n",
    "    return X_train, X_test, y_train, y_test\n",
    "\n",
    "def evaluate_class (classifier, vectorizer, X_test, y_test):\n",
    "    start_time = time.time()\n",
    "    \n",
    "    X_test_tfidf = vectorizer.transform(X_test)\n",
    "    y_pred = classifier.predict(X_test_tfidf)\n",
    "    \n",
    "    end_time = time.time() - start_time\n",
    "    \n",
    "    precision = metrics.precision_score(y_test, y_pred, average='weighted', zero_division=1)\n",
    "    recall = metrics.recall_score(y_test, y_pred, average='weighted', zero_division=1)\n",
    "    f1 = metrics.f1_score(y_test, y_pred, average='weighted', zero_division=1)\n",
    "    \n",
    "    return (precision, recall, f1, round(end_time, 4))\n",
    "    \n",
    "def train_and_evaluate_model(dataset, stopwords, features=10000):\n",
    "    X_train, X_test, y_train, y_test = get_splits(dataset)\n",
    "    vectorizer = CountVectorizer(\n",
    "        stop_words=stopwords,\n",
    "        ngram_range=(1,3), \n",
    "        min_df=3, \n",
    "        analyzer='word',\n",
    "        max_features=features\n",
    "    )\n",
    "\n",
    "    dtm = vectorizer.fit_transform(X_train)\n",
    "    start_time = time.time()\n",
    "    \n",
    "    nbc = MultinomialNB().fit(dtm, y_train)\n",
    "    \n",
    "    train_class = evaluate_class(nbc, vectorizer, X_train, y_train)\n",
    "    test_class = evaluate_class(nbc, vectorizer, X_test, y_test)\n",
    "    \n",
    "    end_time = time.time() - start_time\n",
    "    \n",
    "    print(\n",
    "        tabulate([\n",
    "            ['Train', train_class[0], train_class[1], train_class[2], train_class[3]], \n",
    "            ['Test', test_class[0], test_class[1], test_class[2], test_class[3]] \n",
    "        ], headers=['', 'Precision', 'Recall', 'F1-score', 'time(s)'])\n",
    "    )\n",
    "    print('\\nTotal execution time (s): ', round(end_time, 4))"
   ]
  },
  {
   "cell_type": "markdown",
   "id": "d4249403-efd5-47ed-8d9c-8d3bab581e24",
   "metadata": {},
   "source": [
    "#### Training"
   ]
  },
  {
   "cell_type": "code",
   "execution_count": 12,
   "id": "60e0a3fc-db64-4ec4-a3df-5eeeba5a28aa",
   "metadata": {},
   "outputs": [],
   "source": [
    "# vectorizer max features (number of most common words)\n",
    "vec_feat_01 = 100\n",
    "vec_feat_02 = 500\n",
    "vec_feat_03 = 1000\n",
    "vec_feat_04 = 5000\n",
    "vec_feat_05 = 10000\n",
    "\n",
    "# stopwords\n",
    "sw = stop_words01"
   ]
  },
  {
   "cell_type": "markdown",
   "id": "57680303-8048-4912-9cb3-14166feecd1f",
   "metadata": {},
   "source": [
    "##### [1.1] Training configuration suite (ds_suite_01, vec_feat_01)"
   ]
  },
  {
   "cell_type": "code",
   "execution_count": 13,
   "id": "41365049-fab1-4172-b702-c2366de9b604",
   "metadata": {},
   "outputs": [
    {
     "name": "stdout",
     "output_type": "stream",
     "text": [
      "         Precision    Recall    F1-score    time(s)\n",
      "-----  -----------  --------  ----------  ---------\n",
      "Train      0.70693  0.659948    0.677516     13.762\n",
      "Test       0.70587  0.659756    0.677244      3.424\n",
      "\n",
      "Total execution time (s):  18.23\n"
     ]
    }
   ],
   "source": [
    "train_and_evaluate_model(ds_suite_01, sw, vec_feat_01)"
   ]
  },
  {
   "cell_type": "markdown",
   "id": "3c1e94aa-eda8-49f0-a96a-43180b9db261",
   "metadata": {},
   "source": [
    "##### [1.2] Training configuration suite (ds_suite_01, vec_feat_02)"
   ]
  },
  {
   "cell_type": "code",
   "execution_count": null,
   "id": "7cd13a3b-b021-4bfb-b906-63f6807bbf27",
   "metadata": {},
   "outputs": [],
   "source": [
    "train_and_evaluate_model(ds_suite_01, sw, vec_feat_02)"
   ]
  },
  {
   "cell_type": "markdown",
   "id": "6ec2abce-aa28-4f7a-bc45-4e5721b54059",
   "metadata": {},
   "source": [
    "##### [1.3] Training configuration suite (ds_suite_01, vec_feat_03)"
   ]
  },
  {
   "cell_type": "code",
   "execution_count": 14,
   "id": "1ecfe504-7a88-40b1-9164-4087c973e33c",
   "metadata": {},
   "outputs": [
    {
     "name": "stdout",
     "output_type": "stream",
     "text": [
      "         Precision    Recall    F1-score    time(s)\n",
      "-----  -----------  --------  ----------  ---------\n",
      "Train     0.760905  0.670856    0.689482     14.331\n",
      "Test      0.753949  0.663008    0.682749      3.56\n",
      "\n",
      "Total execution time (s):  18.979\n"
     ]
    }
   ],
   "source": [
    "train_and_evaluate_model(ds_suite_01, sw, vec_feat_03)"
   ]
  },
  {
   "cell_type": "markdown",
   "id": "8fef98b6-cd4f-47c5-80df-e60dbb5805aa",
   "metadata": {},
   "source": [
    "##### [1.4] Training configuration suite (ds_suite_01, vec_feat_04)"
   ]
  },
  {
   "cell_type": "code",
   "execution_count": null,
   "id": "4a181ddb-8e36-440e-88d5-b685ce628897",
   "metadata": {},
   "outputs": [],
   "source": [
    "train_and_evaluate_model(ds_suite_01, sw, vec_feat_04)"
   ]
  },
  {
   "cell_type": "markdown",
   "id": "c3b297a0-2c94-45ba-ba58-ab85c62810b9",
   "metadata": {},
   "source": [
    "##### [1.5] Training configuration suite (ds_suite_01, vec_feat_05)"
   ]
  },
  {
   "cell_type": "code",
   "execution_count": 15,
   "id": "70761f60-8194-4be5-b98e-d44269df3e8c",
   "metadata": {},
   "outputs": [
    {
     "name": "stdout",
     "output_type": "stream",
     "text": [
      "         Precision    Recall    F1-score    time(s)\n",
      "-----  -----------  --------  ----------  ---------\n",
      "Train     0.779263  0.694841    0.710314     15.434\n",
      "Test      0.769511  0.673035    0.691537      3.774\n",
      "\n",
      "Total execution time (s):  20.433\n"
     ]
    }
   ],
   "source": [
    "train_and_evaluate_model(ds_suite_01, sw, vec_feat_05)"
   ]
  },
  {
   "cell_type": "markdown",
   "id": "2b970726-22e5-4e5a-9185-268e2db164d4",
   "metadata": {},
   "source": [
    "##### [2.1] Training configuration suite (ds_suite_02, vec_feat_01)"
   ]
  },
  {
   "cell_type": "code",
   "execution_count": 16,
   "id": "9a7673f2-95f2-484e-b22a-ce1ff2959ac4",
   "metadata": {},
   "outputs": [
    {
     "name": "stdout",
     "output_type": "stream",
     "text": [
      "         Precision    Recall    F1-score    time(s)\n",
      "-----  -----------  --------  ----------  ---------\n",
      "Train     0.724445  0.591196    0.632184     26.098\n",
      "Test      0.722831  0.584553    0.628364      6.43\n",
      "\n",
      "Total execution time (s):  33.605\n"
     ]
    }
   ],
   "source": [
    "train_and_evaluate_model(ds_suite_02, sw, vec_feat_01)"
   ]
  },
  {
   "cell_type": "markdown",
   "id": "4457feae-c73f-43ec-a4b1-43b05a52cdf7",
   "metadata": {},
   "source": [
    "##### [2.2] Training configuration suite (ds_suite_02, vec_feat_02)"
   ]
  },
  {
   "cell_type": "code",
   "execution_count": null,
   "id": "cd1b0394-1201-4a03-9d43-0cb26338e166",
   "metadata": {},
   "outputs": [],
   "source": [
    "train_and_evaluate_model(ds_suite_02, sw, vec_feat_02)"
   ]
  },
  {
   "cell_type": "markdown",
   "id": "c0c86729-e219-4cfb-a7fc-1408943ce2c1",
   "metadata": {},
   "source": [
    "##### [2.3] Training configuration suite (ds_suite_02, vec_feat_03)"
   ]
  },
  {
   "cell_type": "code",
   "execution_count": 18,
   "id": "3ec94448-ba80-4c38-86c9-a0a291edc122",
   "metadata": {},
   "outputs": [
    {
     "name": "stdout",
     "output_type": "stream",
     "text": [
      "         Precision    Recall    F1-score    time(s)\n",
      "-----  -----------  --------  ----------  ---------\n",
      "Train     0.76805   0.653545    0.682926     28.105\n",
      "Test      0.759767  0.646477    0.677085      7.204\n",
      "\n",
      "Total execution time (s):  36.516\n"
     ]
    }
   ],
   "source": [
    "train_and_evaluate_model(ds_suite_02, sw, vec_feat_03)"
   ]
  },
  {
   "cell_type": "markdown",
   "id": "2b210048-fa96-46fd-bd35-f43ec92d94ee",
   "metadata": {
    "tags": []
   },
   "source": [
    "##### [2.4] Training configuration suite (ds_suite_02, sw, vec_feat_04)"
   ]
  },
  {
   "cell_type": "code",
   "execution_count": null,
   "id": "8c53857c-4a02-42cd-ae64-1e1a3abe4b21",
   "metadata": {},
   "outputs": [],
   "source": [
    "train_and_evaluate_model(ds_suite_02, sw, vec_feat_04)"
   ]
  },
  {
   "cell_type": "markdown",
   "id": "48d8ce12-de0f-40f3-a1df-cdb68ef31de9",
   "metadata": {
    "tags": []
   },
   "source": [
    "##### [2.5] Training configuration suite (ds_suite_02, vec_feat_05)"
   ]
  },
  {
   "cell_type": "code",
   "execution_count": 19,
   "id": "882b7222-22f0-4329-ad0a-600335ecba9c",
   "metadata": {},
   "outputs": [
    {
     "name": "stdout",
     "output_type": "stream",
     "text": [
      "         Precision    Recall    F1-score    time(s)\n",
      "-----  -----------  --------  ----------  ---------\n",
      "Train     0.770436  0.665588    0.686501    29.5713\n",
      "Test      0.761583  0.652236    0.675303     7.412\n",
      "\n",
      "Total execution time (s):  38.4103\n"
     ]
    }
   ],
   "source": [
    "train_and_evaluate_model(ds_suite_02, sw, vec_feat_05)"
   ]
  },
  {
   "cell_type": "markdown",
   "id": "ad6744e4-0a00-4b54-a66e-b6932f052fe8",
   "metadata": {
    "tags": []
   },
   "source": [
    "##### [3.1] Training configuration suite (ds_suite_03, vec_feat_01)"
   ]
  },
  {
   "cell_type": "code",
   "execution_count": 20,
   "id": "b34994b2-3b3c-46d1-bae2-dc7625389a84",
   "metadata": {},
   "outputs": [
    {
     "name": "stdout",
     "output_type": "stream",
     "text": [
      "         Precision    Recall    F1-score    time(s)\n",
      "-----  -----------  --------  ----------  ---------\n",
      "Train     0.598338  0.182984    0.219237    849.81\n",
      "Test      0.601798  0.184214    0.220787    224.463\n",
      "\n",
      "Total execution time (s):  1075.9545\n"
     ]
    }
   ],
   "source": [
    "train_and_evaluate_model(ds_suite_03, sw, vec_feat_01)"
   ]
  },
  {
   "cell_type": "markdown",
   "id": "9c504089-3658-41bc-9f9e-62aca0ca8dbe",
   "metadata": {
    "tags": []
   },
   "source": [
    "##### [3.2] Training configuration suite (ds_suite_03, vec_feat_02)"
   ]
  },
  {
   "cell_type": "code",
   "execution_count": null,
   "id": "44fe6e0a-c8fb-4469-bc24-fbd52ba84d7d",
   "metadata": {},
   "outputs": [],
   "source": [
    "train_and_evaluate_model(ds_suite_03, sw, vec_feat_02)"
   ]
  },
  {
   "cell_type": "markdown",
   "id": "a4993bbe-3d49-44fa-bc73-9230c7020f0b",
   "metadata": {
    "tags": []
   },
   "source": [
    "##### [3.3] Training configuration suite (ds_suite_03, vec_feat_03)"
   ]
  },
  {
   "cell_type": "code",
   "execution_count": 21,
   "id": "50070b8f-3b0f-4551-9c43-48b7bb726314",
   "metadata": {},
   "outputs": [
    {
     "name": "stdout",
     "output_type": "stream",
     "text": [
      "         Precision    Recall    F1-score    time(s)\n",
      "-----  -----------  --------  ----------  ---------\n",
      "Train     0.820582  0.736543    0.760416    869.843\n",
      "Test      0.81811   0.73103     0.756251    220.814\n",
      "\n",
      "Total execution time (s):  1092.9476\n"
     ]
    }
   ],
   "source": [
    "train_and_evaluate_model(ds_suite_03, sw, vec_feat_03)"
   ]
  },
  {
   "cell_type": "markdown",
   "id": "d0bfb647-3566-48c8-8ff6-a30d96983b41",
   "metadata": {
    "tags": []
   },
   "source": [
    "##### [3.4] Training configuration suite (ds_suite_03, vec_feat_04)"
   ]
  },
  {
   "cell_type": "code",
   "execution_count": null,
   "id": "e4942fe8-537d-4ab7-91dd-323172d0fd5b",
   "metadata": {},
   "outputs": [],
   "source": [
    "train_and_evaluate_model(ds_suite_03, sw, vec_feat_04)"
   ]
  },
  {
   "cell_type": "markdown",
   "id": "2442a2dc-505d-4e93-8884-fe85b66a25b1",
   "metadata": {
    "tags": []
   },
   "source": [
    "##### [3.3] Training configuration suite (ds_suite_03, vec_feat_05)"
   ]
  },
  {
   "cell_type": "code",
   "execution_count": 17,
   "id": "6c5b5bc7-03a1-4496-b92e-0990e05f44f7",
   "metadata": {},
   "outputs": [
    {
     "name": "stdout",
     "output_type": "stream",
     "text": [
      "         Precision    Recall    F1-score    time(s)\n",
      "-----  -----------  --------  ----------  ---------\n",
      "Train     0.797823  0.736051    0.753075    817.794\n",
      "Test      0.794696  0.730014    0.749467    210.226\n",
      "\n",
      "Total execution time (s):  1031.254\n"
     ]
    }
   ],
   "source": [
    "train_and_evaluate_model(ds_suite_03, sw, vec_feat_03)"
   ]
  }
 ],
 "metadata": {
  "kernelspec": {
   "display_name": "Python 3 (ipykernel)",
   "language": "python",
   "name": "python3"
  },
  "language_info": {
   "codemirror_mode": {
    "name": "ipython",
    "version": 3
   },
   "file_extension": ".py",
   "mimetype": "text/x-python",
   "name": "python",
   "nbconvert_exporter": "python",
   "pygments_lexer": "ipython3",
   "version": "3.9.12"
  },
  "vscode": {
   "interpreter": {
    "hash": "f08154012ddadd8e950e6e9e035c7a7b32c136e7647e9b7c77e02eb723a8bedb"
   }
  }
 },
 "nbformat": 4,
 "nbformat_minor": 5
}
